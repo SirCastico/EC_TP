{
 "cells": [
  {
   "cell_type": "markdown",
   "id": "e9a23be1",
   "metadata": {},
   "source": [
    "# Estruturas Criptográficas - TP3-1\n",
    "### PG53721 - Carlos Machado\n",
    "### PG54249 - Tiago Oliveira\n",
    "### Enunciado - Resolver o HNP com soluções aproximadas dos problemas em reticulados\n"
   ]
  },
  {
   "cell_type": "markdown",
   "id": "c3e681d5",
   "metadata": {},
   "source": [
    "Nesta secção declaramos os parâmetros do problema HNP,\n",
    "parâmetros necessários para a solução e duas funções.\n",
    "\n",
    "- msb: Aproximação dos bits mais significativos\n",
    "- build_matrix: Construção da matriz a ser reduzida"
   ]
  },
  {
   "cell_type": "code",
   "execution_count": 69,
   "id": "83e0572b",
   "metadata": {},
   "outputs": [],
   "source": [
    "# HNP:Recover α of Fp such that for many \n",
    "# known random t of Fp we are given MSBl(α*t)for some l>0.\n",
    "\n",
    "d = 16\n",
    "p = next_prime(2^d)\n",
    "\n",
    "d = ceil(log(p, 2))\n",
    "\n",
    "Fp = GF(p)\n",
    "\n",
    "k = ceil(sqrt(d)) + ceil(log(d, 2))\n",
    "n = 2 * ceil(sqrt(d))\n",
    "A = 1/(2**k)\n",
    "B = p/(2**k)\n",
    "M = 2**(k*20)\n",
    "\n",
    "def msb2(y):\n",
    "    while True:\n",
    "        u = Fp.random_element()\n",
    "        if 0 <= QQ(y) - B*QQ(u) < B:\n",
    "            break\n",
    "    return u\n",
    "\n",
    "def msb(y):\n",
    "    return Fp(floor(QQ(y)/B))\n",
    "\n",
    "def build_matrix(ts,us):\n",
    "    mat = []\n",
    "    \n",
    "    for i in range(0,n):\n",
    "        vec = [0] * (n+2)\n",
    "        vec[i] = p\n",
    "        mat.append(vec)\n",
    "\n",
    "    t_row = list(ts) + [A,0]\n",
    "    last_row = [-B*QQ(u) for u in us] + [0,M]\n",
    "    mat.append(t_row)\n",
    "    mat.append(last_row)\n",
    "    return matrix(QQ,mat)\n"
   ]
  },
  {
   "cell_type": "markdown",
   "id": "dad9aabe",
   "metadata": {},
   "source": [
    "Geramos o *alpha* a ser descoberto e os pares que serão usados para\n",
    "o descobrir"
   ]
  },
  {
   "cell_type": "code",
   "execution_count": 70,
   "id": "275108af",
   "metadata": {},
   "outputs": [],
   "source": [
    "alpha = Fp.random_element()\n",
    "\n",
    "ts = [Fp.random_element() for _ in range(0,n)]\n",
    "us = [msb(alpha*t) for t in ts]"
   ]
  },
  {
   "cell_type": "markdown",
   "id": "4084cb8b",
   "metadata": {},
   "source": [
    "Por fim, geramos a matriz e aplicamos o algoritmo LLL para descobrir o *alpha*"
   ]
  },
  {
   "cell_type": "code",
   "execution_count": 71,
   "id": "9c1d4c75",
   "metadata": {},
   "outputs": [
    {
     "name": "stdout",
     "output_type": "stream",
     "text": [
      "alpha:4345, found:4345\n"
     ]
    }
   ],
   "source": [
    "mat = build_matrix(ts,us)\n",
    "\n",
    "v = mat.LLL()\n",
    "\n",
    "print(f'alpha:{alpha}, found:{Fp(v[-1][-2]*(2**k))}')"
   ]
  },
  {
   "cell_type": "code",
   "execution_count": null,
   "id": "dd965bc6",
   "metadata": {},
   "outputs": [],
   "source": []
  }
 ],
 "metadata": {
  "kernelspec": {
   "display_name": "SageMath 9.5",
   "language": "sage",
   "name": "sagemath"
  },
  "language_info": {
   "codemirror_mode": {
    "name": "ipython",
    "version": 3
   },
   "file_extension": ".py",
   "mimetype": "text/x-python",
   "name": "python",
   "nbconvert_exporter": "python",
   "pygments_lexer": "ipython3",
   "version": "3.11.2"
  }
 },
 "nbformat": 4,
 "nbformat_minor": 5
}
