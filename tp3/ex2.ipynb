{
 "cells": [
  {
   "cell_type": "markdown",
   "id": "05215d95-ec56-401f-9e7e-658018c2b67e",
   "metadata": {},
   "source": [
    "# Estruturas Criptográficas - TP2-2\n",
    "### PG53721 - Carlos Machado\n",
    "### PG54249 - Tiago Oliveira\n",
    "### Enunciado - Implementação KEM FIPS203\n",
    "\n",
    "Neste problema, pretende-se implmentar um protótipo do standard parametrizado de um **Key Encapsulation Mechanism (KEM)** de acordo com as variantes sugeridas na norma **FIPS203** (512, 768 e 1024 bits de segurança)."
   ]
  },
  {
   "cell_type": "code",
   "execution_count": 21,
   "id": "9eed6392-b7f1-42e5-8e21-f452d7e486b4",
   "metadata": {},
   "outputs": [],
   "source": [
    "import hashlib, os\n",
    "from functools import reduce"
   ]
  },
  {
   "cell_type": "markdown",
   "id": "d016d9a9-24ec-4d44-85f5-638fd2e27a81",
   "metadata": {},
   "source": [
    "## Inicialização"
   ]
  },
  {
   "cell_type": "code",
   "execution_count": 22,
   "id": "960af963",
   "metadata": {},
   "outputs": [
    {
     "name": "stdout",
     "output_type": "stream",
     "text": [
      "Choose from the following numbers:\n",
      "1. ML-KEM-512\n",
      "2. ML-KEM-768\n",
      "3. ML-KEM-1024\n"
     ]
    }
   ],
   "source": [
    "def select_method(method_number):\n",
    "    methods = {\n",
    "        1: (10, 4),\n",
    "        2: (10, 4),\n",
    "        3: (11, 5)\n",
    "    }\n",
    "    return methods.get(method_number, None)\n",
    "\n",
    "N = 256\n",
    "Q = 3329\n",
    "k_value = 3 # errado\n",
    "ETA1 = 2    # errado\n",
    "ETA2 = 2\n",
    "\n",
    "print(\"Escolha um dos seguintes métodos:\")\n",
    "print(\"1. ML-KEM-512\")\n",
    "print(\"2. ML-KEM-768\")\n",
    "print(\"3. ML-KEM-1024\")\n",
    "\n",
    "method_number = int(input(\"Escreva o número correspondente ao método: \"))\n",
    "\n",
    "DU, DV = select_method(method_number)"
   ]
  },
  {
   "cell_type": "code",
   "execution_count": 23,
   "id": "5e284808",
   "metadata": {},
   "outputs": [
    {
     "name": "stdout",
     "output_type": "stream",
     "text": [
      "10\n",
      "4\n"
     ]
    }
   ],
   "source": [
    "print(DU)\n",
    "print(DV)"
   ]
  },
  {
   "cell_type": "markdown",
   "id": "2a0a2557-5f6f-4c83-85b6-ee60278b214c",
   "metadata": {},
   "source": [
    "## Algoritmos auxiliares"
   ]
  },
  {
   "cell_type": "markdown",
   "id": "821156b4-45d8-4073-91cd-4b0d753bca1b",
   "metadata": {},
   "source": [
    "### Conversões e compressões"
   ]
  },
  {
   "cell_type": "code",
   "execution_count": 24,
   "id": "129e13f9-3f3f-4f25-b4c0-3b1a07efb5b3",
   "metadata": {},
   "outputs": [],
   "source": [
    "def bits_to_bytes(b):\n",
    "    B = bytearray([0] * (len(b) // 8))\n",
    "    \n",
    "    for i in range(len(b)):\n",
    "        B[i // 8] += b[i] * 2 ** (i % 8)\n",
    "    \n",
    "    return bytes(B)\n",
    "\n",
    "def bytes_to_bits(B):\n",
    "    B_list = list(B)\n",
    "    b = [0] * (len(B_list) * 8)\n",
    "    \n",
    "    for i in range(len(B_list)):\n",
    "        for j in range(8):\n",
    "            b[8 * i + j] = B_list[i] % 2\n",
    "            B_list[i] //= 2\n",
    "\n",
    "    return b\n",
    "\n",
    "def byte_encode(d, F):\n",
    "    b = [0] * (256 * d)\n",
    "    for i in range(256):\n",
    "        a = F[i]\n",
    "        for j in range(d):\n",
    "            b[i * d + j] = a % 2\n",
    "            a = (a - b[i * d + j]) // 2\n",
    "    \n",
    "    return bits_to_bytes(b)\n",
    "\n",
    "def byte_decode(d, B):\n",
    "    m = 2 ** d if d < 12 else Q\n",
    "    b = bytes_to_bits(B)\n",
    "    F = [0] * 256\n",
    "    for i in range(256):\n",
    "        F[i] = sum(b[i * d + j] * (2 ** j) % m for j in range(d))\n",
    "    \n",
    "    return F\n",
    "    \n",
    "def compress(d, x):\n",
    "\treturn [(((n * 2**d) + Q // 2 ) // Q) % (2**d) for n in x]\n",
    "\n",
    "def decompress(d, x):\n",
    "\treturn [(((n * Q) + 2**(d-1) ) // 2**d) % Q for n in x]"
   ]
  },
  {
   "cell_type": "markdown",
   "id": "e2f7a589-972f-4fd3-b893-264cfee33eba",
   "metadata": {},
   "source": [
    "### Sampling"
   ]
  },
  {
   "cell_type": "code",
   "execution_count": 25,
   "id": "dc54ca2e-9477-4fa3-923b-5f5078e3821e",
   "metadata": {},
   "outputs": [],
   "source": [
    "def sample_ntt(B):\n",
    "    a_nr = [0] * 256\n",
    "    i = 0\n",
    "    j = 0\n",
    "    \n",
    "    while j < 256 and i < len(B):\n",
    "        d1 = B[i] + 256 * (B[i + 1] % 16)\n",
    "        d2 = (B[i + 1] // 16) + 16 * B[i + 2]\n",
    "        \n",
    "        if d1 < Q:\n",
    "            a_nr[j] = d1\n",
    "            j += 1\n",
    "        \n",
    "        if d2 < Q and j < 256:\n",
    "            a_nr[j] = d2\n",
    "            j += 1\n",
    "        \n",
    "        i += 3\n",
    "    \n",
    "    return a_nr\n",
    "\n",
    "def sample_poly_cbd(B, eta):\n",
    "    b = bytes_to_bits(B)\n",
    "    f = [0] * 256\n",
    "    \n",
    "    for i in range(256):\n",
    "        x = sum(b[2*i*eta + j] * (2 ** j) for j in range(eta))\n",
    "        y = sum(b[2*i*eta + eta + j] * (2 ** j) for j in range(eta))\n",
    "        f[i] = (x - y) % Q\n",
    "    \n",
    "    return f"
   ]
  },
  {
   "cell_type": "markdown",
   "id": "557e4267-fdad-4a2e-bdc7-a5cf95bd4db2",
   "metadata": {},
   "source": [
    "### NTT"
   ]
  },
  {
   "cell_type": "code",
   "execution_count": 26,
   "id": "cf55e589-dfff-4163-aa7d-0d7ec853c1eb",
   "metadata": {},
   "outputs": [],
   "source": [
    "def bit_rev_7(r):\n",
    "    return int('{:07b}'.format(r)[::-1], 2)\n",
    "\n",
    "ZETA = [pow(17, bit_rev_7(k_value), Q) for k_value in range(128)]\n",
    "GAMMA = [pow(17, 2 * bit_rev_7(k_value) + 1, Q) for k_value in range(128)]\n",
    "\n",
    "def ntt(f):\n",
    "    fc = f\n",
    "    k_value = 1\n",
    "    len = 128\n",
    "\n",
    "    while len >= 2:\n",
    "        start = 0\n",
    "        while start < 256:\n",
    "            zeta = ZETA[k_value]\n",
    "            k_value += 1\n",
    "            for j in range(start, start + len):\n",
    "                t = (zeta * fc[j + len]) % Q\n",
    "                fc[j + len] = (fc[j] - t) % Q\n",
    "                fc[j] = (fc[j] + t) % Q\n",
    "\n",
    "            start += 2 * len\n",
    "            \n",
    "        len //= 2\n",
    "\n",
    "    return fc\n",
    "\n",
    "def ntt_inv(fc):\n",
    "    f = fc\n",
    "    k_value = 127\n",
    "    len = 2\n",
    "    while len <= 128:\n",
    "        start = 0\n",
    "        while start < 256:\n",
    "            zeta = ZETA[k_value]\n",
    "            k_value -= 1\n",
    "            for j in range(start, start + len):\n",
    "                t = f[j]\n",
    "                f[j] = (t + f[j + len]) % Q\n",
    "                f[j + len] = (zeta * (f[j + len] - t)) % Q\n",
    "\n",
    "            start += 2 * len\n",
    "\n",
    "        len *= 2\n",
    "\n",
    "    return [(felem * 3303) % Q for felem in f]\n",
    "\n",
    "\n",
    "def base_case_multiply(a0, a1, b0, b1, gamma):\n",
    "    c0 = a0 * b0 + a1 * b1 * gamma\n",
    "    c1 = a0 * b1 + a1 * b0\n",
    "\n",
    "    return c0, c1\n",
    "\n",
    "def multiply_ntt_s(fc, gc):\n",
    "    hc = [0] * 256\n",
    "    for i in range(128):\n",
    "        hc[2 * i], hc[2 * i + 1] = base_case_multiply(fc[2 * i], fc[2 * i + 1], gc[2 * i], gc[2 * i + 1], GAMMA[i])\n",
    "    \n",
    "    return hc"
   ]
  },
  {
   "cell_type": "markdown",
   "id": "63ab3d44-6d98-44f0-982d-65dfe5a218bd",
   "metadata": {},
   "source": [
    "#### Funções auxiliares"
   ]
  },
  {
   "cell_type": "code",
   "execution_count": 27,
   "id": "4e72a13e-7b94-45f7-90e3-e5f365250a64",
   "metadata": {},
   "outputs": [],
   "source": [
    "def XOF(rho, i, j):\n",
    "    return hashlib.shake_128(rho + bytes([i]) + bytes([j])).digest(1536)\n",
    "\n",
    "def PRF(eta, s, b):\n",
    "    return hashlib.shake_256(s + b).digest(64 * eta)\n",
    "\n",
    "def vector_add(ac, bc):\n",
    "\treturn [(x + y) % Q for x, y in zip(ac, bc)]\n",
    "\n",
    "def vector_sub(ac, bc):\n",
    "\treturn [(x - y) % Q for x, y in zip(ac, bc)]\n",
    "\n",
    "def G(c):\n",
    "    G_result = hashlib.sha3_512(c).digest()\n",
    "    return G_result[:32], G_result[32:]\n",
    "\n",
    "def H(c):\n",
    "    return hashlib.sha3_256(c).digest()\n",
    "\n",
    "def J(s, l):\n",
    "    return hashlib.shake_256(s).digest(l)"
   ]
  },
  {
   "cell_type": "markdown",
   "id": "f5036121-218e-4961-bbd2-1dcc0a0ff707",
   "metadata": {},
   "source": [
    "### K-PKE"
   ]
  },
  {
   "cell_type": "code",
   "execution_count": 28,
   "id": "37bebcb4-a1a0-4fdf-b596-3e25fb29de95",
   "metadata": {},
   "outputs": [],
   "source": [
    "def k_pke_keygen():\n",
    "    d = os.urandom(32)\n",
    "    rho, sigma = G(d)\n",
    "    N = 0\n",
    "    Ac = [[None for _ in range(k_value)] for _ in range(k_value)]\n",
    "    s = [None for _ in range(k_value)]\n",
    "    e = [None for _ in range(k_value)]\n",
    "\n",
    "    for i in range(k_value):\n",
    "        for j in range(k_value):\n",
    "            Ac[i][j] = sample_ntt(XOF(rho, i, j))\n",
    "\n",
    "    for i in range(k_value):\n",
    "        s[i] = sample_poly_cbd(PRF(ETA1, sigma, bytes([N])), ETA1)\n",
    "        N += 1\n",
    "\n",
    "    for i in range(k_value):\n",
    "        e[i] = sample_poly_cbd(PRF(ETA1, sigma, bytes([N])), ETA1)\n",
    "        N += 1\n",
    "\n",
    "    sc = [ntt(s[i]) for i in range(k_value)]\n",
    "    ec = [ntt(e[i]) for i in range(k_value)]\n",
    "    tc = [reduce(vector_add, [multiply_ntt_s(Ac[i][j], sc[j]) for j in range(k_value)] + [ec[i]]) for i in range(k_value)]\n",
    "\n",
    "    ek_PKE = b\"\".join(byte_encode(12, tc_elem) for tc_elem in tc) + rho\n",
    "    dk_PKE = b\"\".join(byte_encode(12, sc_elem) for sc_elem in sc)\n",
    "\n",
    "    return ek_PKE, dk_PKE\n",
    "\n",
    "def k_pke_encrypt(ek_PKE, m, rand):\n",
    "    N = 0\n",
    "    tc = [byte_decode(12, ek_PKE[i * 128 * k_value : (i + 1) * 128 * k_value]) for i in range(k_value)]\n",
    "    rho = ek_PKE[384 * k_value : 384 * k_value + 32]\n",
    "    Ac = [[None for _ in range(k_value)] for _ in range(k_value)]\n",
    "    r = [None for _ in range(k_value)]\n",
    "    e1 = [None for _ in range(k_value)]\n",
    "\n",
    "    for i in range(k_value):\n",
    "        for j in range(k_value):\n",
    "            Ac[i][j] = sample_ntt(XOF(rho, i, j))\n",
    "\n",
    "\n",
    "    for i in range(k_value):\n",
    "        r[i] = sample_poly_cbd(PRF(ETA1, rand, bytes([N])), ETA1)\n",
    "        N += 1\n",
    "\n",
    "    \n",
    "    for i in range(k_value):\n",
    "        e1[i] = sample_poly_cbd(PRF(ETA2, rand, bytes([N])), ETA2)\n",
    "        N += 1\n",
    "\n",
    "    e2 = sample_poly_cbd(PRF(ETA2, rand, bytes([N])), ETA2)\n",
    "    rc = [ntt(r[i]) for i in range(k_value)]\n",
    "\n",
    "    u = [vector_add(ntt_inv(reduce(vector_add, [multiply_ntt_s(Ac[j][i], rc[j]) for j in range(k_value)])), e1[i]) for i in range(k_value)]\n",
    "\n",
    "    mu = decompress(1, byte_decode(1, m))\n",
    "\n",
    "    v = vector_add(ntt_inv(reduce(vector_add, [multiply_ntt_s(tc[i], rc[i]) for i in range(k_value)])), vector_add(e2, mu))\n",
    "\n",
    "    c1 = b\"\".join(byte_encode(DU, compress(DU, u[i])) for i in range(k_value))\n",
    "    c2 = byte_encode(DV, compress(DV, v))\n",
    "\n",
    "\n",
    "    \n",
    "    return c1 + c2\n",
    "\n",
    "def k_pke_decrypt(dk_PKE, c):\n",
    "    c1 = c[:32 * DU * k_value]\n",
    "    c2 = c[32 * DU * k_value : 32 * (DU * k_value + DV)]\n",
    "    u = [decompress(DU, byte_decode(DU, c1[i * 32 * DU : (i + 1) * 32 * DU])) for i in range(k_value)]\n",
    "\n",
    "    v = decompress(DV, byte_decode(DV, c2))\n",
    "\n",
    "    sc = [byte_decode(12, dk_PKE[i * 384 : (i + 1) * 384]) for i in range(k_value)]\n",
    "\n",
    "    w = vector_sub(v, ntt_inv(reduce(vector_add, [multiply_ntt_s(sc[i], ntt(u[i])) for i in range(k_value)])))\n",
    "\n",
    "    return byte_encode(1, compress(1, w))"
   ]
  },
  {
   "cell_type": "markdown",
   "id": "ef03d5b4-2707-4138-9405-d56498b9e978",
   "metadata": {},
   "source": [
    "### L-KEM Key-Encapsulation Mechanism"
   ]
  },
  {
   "cell_type": "code",
   "execution_count": 29,
   "id": "0dfde543-f98b-4efc-950e-0a293687c699",
   "metadata": {},
   "outputs": [],
   "source": [
    "def ml_kem_keygen():\n",
    "    z = os.urandom(32)\n",
    "    ek_PKE, dk_PKE = k_pke_keygen()\n",
    "    ek = ek_PKE\n",
    "    dk = dk_PKE + ek + H(ek) + z\n",
    "\n",
    "    return ek, dk\n",
    "\n",
    "\n",
    "def ml_kem_encaps(ek):\n",
    "    m = os.urandom(32)\n",
    "    K, r = G(m + H(ek))\n",
    "    c = k_pke_encrypt(ek, m, r)\n",
    "\n",
    "    return K, c\n",
    "\n",
    "\n",
    "def ml_kem_decaps(c, dk):\n",
    "    dk_PKE = dk[0: 384 * 3]\n",
    "    ek_PKE = dk[384 * 3 : 768 * 3 + 32]\n",
    "    h = dk[768 * 3 + 32 : 768 * 3 + 64]\n",
    "    z = dk[768 * 3 + 64 : 768 * 3 + 96]\n",
    "    ml = k_pke_decrypt(dk_PKE, c)\n",
    "    Kl, rl = G(ml + h)\n",
    "    Kb = J((z + c), 32)\n",
    "    cl = k_pke_encrypt(ek_PKE, ml, rl)\n",
    "    if c != cl:\n",
    "        Kl = Kb\n",
    "\n",
    "    return Kl"
   ]
  },
  {
   "cell_type": "markdown",
   "id": "11a199c5-6916-4be1-9242-26e8cd2d5eaa",
   "metadata": {},
   "source": [
    "## Teste"
   ]
  },
  {
   "cell_type": "code",
   "execution_count": 30,
   "id": "7bb3019c-f457-4518-a384-ea5030640651",
   "metadata": {},
   "outputs": [
    {
     "name": "stdout",
     "output_type": "stream",
     "text": [
      "message: b'Este e um exemplo de mensagem !!'\n",
      "b'\\x96\\xe3\\xb6\\x8d1R\\x8b=\\xaa\\xf8O\\xed.\\x9f\\xd7\\x95\\xb4Z\\x0e;\\x8e\\xe5?\\xee\\xaeh+\\xe62\\x8e\\xf5h4l\\xb1\\xbb\\xda\\xa0\\x87\\xe8\\xcb\\x1e\\xe3\\xc3z\\xbf\\xdb\\xbe\\xd3\\xc8\\x0f\\x9aP\\x9d\\xf8\\xec=\\x8c\\x9bS\\xa8E\\xcb\\xdaE\\xc5\\xbb\\xa5[4\\xde\\x9e\\xaa\\x05\\x8f\\x90\\xee\\xe1\\x94\\x97\\x9b\\xea\\xc6c\\x19\\xc9\\xa1Hue\\xc2`0\\x95&\\xe3\\x97\\x87\\xe5a\\xf1[\\x8c6\\xc7\\xae\\xabuF\\xb3)BS\\xdb\\xcdX\\xd2\\x8e\\xb9\\xce5\\xdaR\\xfc\\xebJ7\\x82\\xe3\\xdf\\x809\\xa4T\\x05\\xf7\\xd9\\xc1\\x95\\xcaB/O!7\\xd1#\\x0c\\xa1\\x19\\x12+\\xda#\\x1c\\xec\\xfc\\xd8\\xbb\\xffdi\\xc5\\x99`W\\xb5\\x03\\xb3\\x01O\\xb4\\xe2\\x1c\\xa4\\xc1\\x97\\xa2\\xe3n\\x04P\\'\\x01\\x05\\x88\\xd3\\xc67\\xd2\\xfa\\xe8\\xc5\\xe6h\\xea\\r\\x00\\x980\\x8a\\x7f\\x1c&\\xe9\\xae\\xf2&\\x0c}\\xce8c\\x02}\\xe6aM0\\xc3\\rP\\xee5\\xd2\\xa6\\x80\\x13\\x8c#\\xfa/\\xd3\\x9fL\\xbb\\x8e\\x0b\\x1cO\\x1d\\xf2%]m\\xf4\\xc6*!\\x01\\xdec\\xf4Z\\xea\\x89\\xb7\\xff=\\x7f\\xa8\\x8b\\xdb\\xee\\x99\\x89\\xcd-I&\\x9dS3\\xac\\xab\\x89\\xa9D\\xf6\\xdd7\\xf8\\x83F\\xf6\\xc7\\x9f\\xfd%w\\xe5\\xde\\x01[\\xa8\\xca9\\xecH\\x03&N\\xf0\\x86\\n?|\\x93\\x90]\\xab\\x82g\\xb2\\x82\\xff\\xe9\\xddC5\\x899\\xbf[\\xb7\\xc0Qs\\xd8\\xdb\\x93l1\\xe6h9\\xf9\\xd8\\x83\\x9c]EP\\xcdk\\x892\\xfa\\xca&d\\xf2\\t\\x06\\xc7\\xa0\\nySU\\x7f\\x87\\x11\\xaby\\t\\xe6F \\x01]v\\xbe\\x1cA&[\\xecR(\\x83L\\x8d\\xf1o\\xbaI\\x8d\\xe0$:L\\xb5\\xb7\\xa7\\xa0\\x87b\\x1b\\x88^\\xd5^n\\x80\\x84\\xc9\\xf2X\\xc7\\xc6\\xc2i\\xc7\\xb5\\xcf\\xa3b\\xdbQC\\xc3\\xb8~\\x7f\\x18\\xba\\xdfa:\\x16\\x89a,\\xe3k\\xb2\\x81\\'\\x8d\\tp\\xa8\\xbf\\x96P\\xfb\\xa4C\\xbcQwo\\x06U\\x1eU\\x9fb\\x8f\\x13\\x9f \\xfcz%\\xec\\x17\\xf3:\\r\\xb5\\x8b\\xef\\x02\\xd9\\xcd\\xc74}\\xdd\\x07\\xfb\\x8b$\\xe6EghE:\\xe9\\xef\\xaf\\xed\\xc1\\xe8\\x08\\x91\\xe2\\x9dw\\x14\\x8f2o4\\xb3`\\xce\\x19M\\xd1\\xd3\\xc0:I\\xd1M\\xe6\\xe6\\xa7\\xd2m\\x8e\\x8a\\x93)\\x18U\\x93I\\xa4\"\\x11W\\xab_\\x80v\\xf2\\x18\\xdd\\xd1CRc\\'+I\\xa9\\xccG\\x86\\xfe\\xf5\\xa8tz \\x93\\x16\\xd8\\xd5\\xc9|h.\\xa5\\xed\\xc0Ox~\\x92\\xf4\\x145\\xb2\\x0ch\\xe3\\xfb\\x87\\xc4\\x01\\xd4\\x10\\xa2\\x1e\\xe5k\\x01csT_\\x070e0\\x82\\x8b\\xe5v\\xf8\\x9b\\xf0\\xe0+{U#\\x92/\\xe0+\\xf2\\xffv\\xa3z\\x9bc&\\xd3.\\xcf]\\xe1\\xdb\\xf1\\xa7\\xb9\\x84\\xfa\\x19_\\xd28G\\x97\\x8eGy\\x8dM\\x93\\x95\\x96\\x87X\\xedw\\xc5\\xebp\\xb2\\xdf\\x80S\\xca#|&\\xb3\\xcd\\xfa\\ny\\xf7s\\x8c\\xef\\rRV~\\x89\\xff{\\xe7+\\xee\\xb1\\xca\\xa1\\x06\\n\\x08\\xbe;{\\xb4T\\xb3\\xeb,\\x01)\\xee\\xfa^\\xdd!P\\xa3\\xad\\xfd)\\x93\\xb4\\xeb\\x06=\\x1de\\xc2Q\\xde 9\\x1c\\xe7\\x06t\\x81\\xe6K\\x8a\\xa0CBe\\xf0\\x08\\x83\\x86\\xc4\\xbd\\x97\\xc8\\x909\\x91\\x01s\\xdfk\\rrf9\\xf3\\xbf!\\x1b\\xcad\\xa8\\x825\\xd3Pt\\x99\\xc1\\xda^G\\xae\\xe0(\\x9f\\x8b\\xa1\\x0eba\\xbf\\x9d\\x16\\xfa\\xe7\\xb1Nxtu\\xa9\\xa19\\xb0\\x17\\xa5\\xbc3\\x87\\x9dl\\x96w\\xcd\\x0b\\xde\\x04\\xb9%aE\\xb7\\xdc\\xdbk\\xb5\\x94\\xebd\\xdbng\\x07\\xa3\\x06\\n#y\\x07\\r\\xbe\\xb6sr\\xdd\\x19\\xb6\\t\\xb62[K^\\xddTW\\xac\\x06,\\xdd\\xa3\\x956Z]\\xd6\\xd3_\\xf1\\xc2f\\xf0\\x00\\xaaj\\xff\\x0c/\\x16#\\xa0v\\xdeG\\xb1\\xeb?t{\\xe3\\xb7\\xdb\\x94\"\\x9c\\xf2\\xb6)VBc\\xc73\\xdeaV\\xee\\xe0>\\x12\\x8e\\xc2S8h\\xc7Pk^(\\xbe\\x83\\xc4\\xec\\xc9\\xaa\\rQ\\x86\\x99\\xfcr\\x08v\\xf9\\xbf/\\x1b\\x16\\xaaD\\xbd\\x14\\xb0\\xb2\\xc2\\x98\\xb3\\xaf\\xaa0n\\xbb\\xcb\\xdb\\x05\\x17\\x03\\ng\\'M\\xa8\\x98\\x99\\xeb\\x9f\\x13hOd\\x07\\x86\\xc2\\xcf\\x89\\x0c\\x94J\\xe3>GvS\\xfa\\x06M\\xffRg\\x94\\xb4\\x19\\x9d\\x99\\xb6\\x05A\\xa1\\xa5r\\xab\\xf4\\x93\\n<\\xe5G\\\\\\x1ef\\x80-a\\xbd\\xd8\\x85y0tV5\\'\\xdd\\xe8\\x9b\\xa7\\xd2O\\xbe\\x01\\x95\\x07S\\t\\xdd\\xe6-\\x02\\x88\\x14\\x024\\x0fe$\\xf6\\xc5\\xa8G3\\xbbQwF\\xa79q\\x04\\x7f\\xb5\\x17\\x1f\\xf6\\xad?\\xfbkU\\x03zUm\\xfa!U\\x87\\xe8+{\\x96\\x19:gI\\xf3\\x1c\\xe9>\\x0f\\x17)\\x05\\xa7\\xb5\\xd3?\\xd3#'\n",
      "message: b'Este e um exemplo de mensagem !!'\n"
     ]
    }
   ],
   "source": [
    "rand = os.urandom(32)\n",
    "message = b'Este e um exemplo de mensagem !!'\n",
    "ek_PKE, dk_PKE = k_pke_keygen()\n",
    "#  \n",
    "print('message:', message)\n",
    "cipher = k_pke_encrypt(ek_PKE, message, rand)\n",
    "print(cipher)\n",
    "# \n",
    "message2 = k_pke_decrypt(dk_PKE, cipher)\n",
    "print('message:', message2)\n",
    "\n",
    "ek, dk = ml_kem_keygen()\n",
    "#print('ek:', ek)\n",
    "#print('dk:', dk)\n",
    "\n",
    "K, c = ml_kem_encaps(ek)\n",
    "#print('K:', K)\n",
    "#print('c:', c)\n",
    "\n",
    "Kl = ml_kem_decaps(c, dk)"
   ]
  }
 ],
 "metadata": {
  "kernelspec": {
   "display_name": "Python 3",
   "language": "python",
   "name": "python3"
  },
  "language_info": {
   "codemirror_mode": {
    "name": "ipython",
    "version": 3
   },
   "file_extension": ".py",
   "mimetype": "text/x-python",
   "name": "python",
   "nbconvert_exporter": "python",
   "pygments_lexer": "ipython3",
   "version": "3.10.12"
  }
 },
 "nbformat": 4,
 "nbformat_minor": 5
}
