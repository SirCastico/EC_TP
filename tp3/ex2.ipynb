{
 "cells": [
  {
   "cell_type": "markdown",
   "id": "05215d95-ec56-401f-9e7e-658018c2b67e",
   "metadata": {},
   "source": [
    "# Estruturas Criptográficas - TP3-2\n",
    "### PG53721 - Carlos Machado\n",
    "### PG54249 - Tiago Oliveira\n",
    "### Enunciado - Implementação KEM FIPS203\n",
    "\n",
    "Neste problema, pretende-se implmentar um protótipo do standard parametrizado de um **Key Encapsulation Mechanism (KEM)** de acordo com as variantes sugeridas na norma **FIPS203** (512, 768 e 1024 bits de segurança)."
   ]
  },
  {
   "cell_type": "code",
   "execution_count": 156,
   "id": "9eed6392-b7f1-42e5-8e21-f452d7e486b4",
   "metadata": {},
   "outputs": [],
   "source": [
    "import hashlib, os\n",
    "from functools import reduce"
   ]
  },
  {
   "cell_type": "markdown",
   "id": "d016d9a9-24ec-4d44-85f5-638fd2e27a81",
   "metadata": {},
   "source": [
    "## Inicialização"
   ]
  },
  {
   "cell_type": "code",
   "execution_count": 157,
   "id": "960af963",
   "metadata": {},
   "outputs": [
    {
     "name": "stdout",
     "output_type": "stream",
     "text": [
      "Escolha um dos seguintes métodos:\n",
      "1. ML-KEM-512\n",
      "2. ML-KEM-768\n",
      "3. ML-KEM-1024\n"
     ]
    },
    {
     "name": "stdin",
     "output_type": "stream",
     "text": [
      "Escreva o número correspondente ao método:  2\n"
     ]
    }
   ],
   "source": [
    "def select_method(method_number):\n",
    "    methods = {\n",
    "        1: (2, 3, 10, 4),\n",
    "        2: (3, 2, 10, 4),\n",
    "        3: (4, 2, 11, 5)\n",
    "    }\n",
    "    return methods.get(method_number, None)\n",
    "\n",
    "N = 256\n",
    "Q = 3329\n",
    "ETA2 = 2\n",
    "\n",
    "print(\"Escolha um dos seguintes métodos:\")\n",
    "print(\"1. ML-KEM-512\")\n",
    "print(\"2. ML-KEM-768\")\n",
    "print(\"3. ML-KEM-1024\")\n",
    "\n",
    "method_number = int(input(\"Escreva o número correspondente ao método: \"))\n",
    "\n",
    "k_value, ETA1, DU, DV = select_method(method_number)"
   ]
  },
  {
   "cell_type": "markdown",
   "id": "2a0a2557-5f6f-4c83-85b6-ee60278b214c",
   "metadata": {},
   "source": [
    "## Algoritmos auxiliares"
   ]
  },
  {
   "cell_type": "markdown",
   "id": "821156b4-45d8-4073-91cd-4b0d753bca1b",
   "metadata": {},
   "source": [
    "### Conversões e compressões"
   ]
  },
  {
   "cell_type": "code",
   "execution_count": 148,
   "id": "129e13f9-3f3f-4f25-b4c0-3b1a07efb5b3",
   "metadata": {},
   "outputs": [],
   "source": [
    "def bits_to_bytes(b):\n",
    "    B = bytearray([0] * (len(b) // 8))\n",
    "    \n",
    "    for i in range(len(b)):\n",
    "        B[i // 8] += b[i] * 2 ** (i % 8)\n",
    "    \n",
    "    return bytes(B)\n",
    "\n",
    "def bytes_to_bits(B):\n",
    "    B_list = list(B)\n",
    "    b = [0] * (len(B_list) * 8)\n",
    "    \n",
    "    for i in range(len(B_list)):\n",
    "        for j in range(8):\n",
    "            b[8 * i + j] = B_list[i] % 2\n",
    "            B_list[i] //= 2\n",
    "\n",
    "    return b\n",
    "\n",
    "def byte_encode(d, F):\n",
    "    b = [0] * (256 * d)\n",
    "    for i in range(256):\n",
    "        a = F[i]\n",
    "        for j in range(d):\n",
    "            b[i * d + j] = a % 2\n",
    "            a = (a - b[i * d + j]) // 2\n",
    "    \n",
    "    return bits_to_bytes(b)\n",
    "\n",
    "def byte_decode(d, B):\n",
    "    m = 2 ** d if d < 12 else Q\n",
    "    b = bytes_to_bits(B)\n",
    "    F = [0] * 256\n",
    "    for i in range(256):\n",
    "        F[i] = sum(b[i * d + j] * (2 ** j) % m for j in range(d))\n",
    "    \n",
    "    return F\n",
    "    \n",
    "def compress(d, x):\n",
    "\treturn [(((n * 2**d) + Q // 2 ) // Q) % (2**d) for n in x]\n",
    "\n",
    "def decompress(d, x):\n",
    "\treturn [(((n * Q) + 2**(d-1) ) // 2**d) % Q for n in x]"
   ]
  },
  {
   "cell_type": "markdown",
   "id": "e2f7a589-972f-4fd3-b893-264cfee33eba",
   "metadata": {},
   "source": [
    "### Sampling"
   ]
  },
  {
   "cell_type": "code",
   "execution_count": 149,
   "id": "dc54ca2e-9477-4fa3-923b-5f5078e3821e",
   "metadata": {},
   "outputs": [],
   "source": [
    "def sample_ntt(B):\n",
    "    a_nr = [0] * 256\n",
    "    i = 0\n",
    "    j = 0\n",
    "    \n",
    "    while j < 256 and i < len(B):\n",
    "        d1 = B[i] + 256 * (B[i + 1] % 16)\n",
    "        d2 = (B[i + 1] // 16) + 16 * B[i + 2]\n",
    "        \n",
    "        if d1 < Q:\n",
    "            a_nr[j] = d1\n",
    "            j += 1\n",
    "        \n",
    "        if d2 < Q and j < 256:\n",
    "            a_nr[j] = d2\n",
    "            j += 1\n",
    "        \n",
    "        i += 3\n",
    "    \n",
    "    return a_nr\n",
    "\n",
    "def sample_poly_cbd(B, eta):\n",
    "    b = bytes_to_bits(B)\n",
    "    f = [0] * 256\n",
    "    \n",
    "    for i in range(256):\n",
    "        x = sum(b[2 * i * eta + j] for j in range(eta))\n",
    "        y = sum(b[2 * i * eta + eta + j] for j in range(eta))\n",
    "        f[i] = (x - y) % Q\n",
    "\n",
    "    return f"
   ]
  },
  {
   "cell_type": "markdown",
   "id": "557e4267-fdad-4a2e-bdc7-a5cf95bd4db2",
   "metadata": {},
   "source": [
    "### NTT"
   ]
  },
  {
   "cell_type": "code",
   "execution_count": 150,
   "id": "cf55e589-dfff-4163-aa7d-0d7ec853c1eb",
   "metadata": {},
   "outputs": [],
   "source": [
    "def bit_rev_7(r):\n",
    "    return int('{:07b}'.format(r)[::-1], 2)\n",
    "\n",
    "ZETA = [pow(17, bit_rev_7(k_value), Q) for k_value in range(128)]\n",
    "GAMMA = [pow(17, 2 * bit_rev_7(k_value) + 1, Q) for k_value in range(128)]\n",
    "\n",
    "def ntt(f):\n",
    "    fc = f\n",
    "    k_value = 1\n",
    "    len = 128\n",
    "\n",
    "    while len >= 2:\n",
    "        start = 0\n",
    "        while start < 256:\n",
    "            zeta = ZETA[k_value]\n",
    "            k_value += 1\n",
    "            for j in range(start, start + len):\n",
    "                t = (zeta * fc[j + len]) % Q\n",
    "                fc[j + len] = (fc[j] - t) % Q\n",
    "                fc[j] = (fc[j] + t) % Q\n",
    "\n",
    "            start += 2 * len\n",
    "            \n",
    "        len //= 2\n",
    "\n",
    "    return fc\n",
    "\n",
    "def ntt_inv(fc):\n",
    "    f = fc\n",
    "    k_value = 127\n",
    "    len = 2\n",
    "    while len <= 128:\n",
    "        start = 0\n",
    "        while start < 256:\n",
    "            zeta = ZETA[k_value]\n",
    "            k_value -= 1\n",
    "            for j in range(start, start + len):\n",
    "                t = f[j]\n",
    "                f[j] = (t + f[j + len]) % Q\n",
    "                f[j + len] = (zeta * (f[j + len] - t)) % Q\n",
    "\n",
    "            start += 2 * len\n",
    "\n",
    "        len *= 2\n",
    "\n",
    "    return [(felem * 3303) % Q for felem in f]\n",
    "\n",
    "\n",
    "def base_case_multiply(a0, a1, b0, b1, gamma):\n",
    "    c0 = a0 * b0 + a1 * b1 * gamma\n",
    "    c1 = a0 * b1 + a1 * b0\n",
    "\n",
    "    return c0, c1\n",
    "\n",
    "def multiply_ntt_s(fc, gc):\n",
    "    hc = [0] * 256\n",
    "    for i in range(128):\n",
    "        hc[2 * i], hc[2 * i + 1] = base_case_multiply(fc[2 * i], fc[2 * i + 1], gc[2 * i], gc[2 * i + 1], GAMMA[i])\n",
    "    \n",
    "    return hc"
   ]
  },
  {
   "cell_type": "markdown",
   "id": "63ab3d44-6d98-44f0-982d-65dfe5a218bd",
   "metadata": {},
   "source": [
    "#### Funções auxiliares"
   ]
  },
  {
   "cell_type": "code",
   "execution_count": 151,
   "id": "4e72a13e-7b94-45f7-90e3-e5f365250a64",
   "metadata": {},
   "outputs": [],
   "source": [
    "def XOF(rho, i, j):\n",
    "    return hashlib.shake_128(rho + bytes([i]) + bytes([j])).digest(1536)\n",
    "\n",
    "def PRF(eta, s, b):\n",
    "    return hashlib.shake_256(s + b).digest(64 * eta)\n",
    "\n",
    "def vector_add(ac, bc):\n",
    "\treturn [(x + y) % Q for x, y in zip(ac, bc)]\n",
    "\n",
    "def vector_sub(ac, bc):\n",
    "\treturn [(x - y) % Q for x, y in zip(ac, bc)]\n",
    "\n",
    "def G(c):\n",
    "    G_result = hashlib.sha3_512(c).digest()\n",
    "    return G_result[:32], G_result[32:]\n",
    "\n",
    "def H(c):\n",
    "    return hashlib.sha3_256(c).digest()\n",
    "\n",
    "def J(s, l):\n",
    "    return hashlib.shake_256(s).digest(l)"
   ]
  },
  {
   "cell_type": "markdown",
   "id": "f5036121-218e-4961-bbd2-1dcc0a0ff707",
   "metadata": {},
   "source": [
    "### K-PKE"
   ]
  },
  {
   "cell_type": "code",
   "execution_count": 152,
   "id": "37bebcb4-a1a0-4fdf-b596-3e25fb29de95",
   "metadata": {},
   "outputs": [],
   "source": [
    "def k_pke_keygen():\n",
    "    d = os.urandom(32)\n",
    "    rho, sigma = G(d)\n",
    "    N = 0\n",
    "    Ac = [[None for _ in range(k_value)] for _ in range(k_value)]\n",
    "    s = [None for _ in range(k_value)]\n",
    "    e = [None for _ in range(k_value)]\n",
    "\n",
    "    for i in range(k_value):\n",
    "        for j in range(k_value):\n",
    "            Ac[i][j] = sample_ntt(XOF(rho, i, j))\n",
    "\n",
    "    for i in range(k_value):\n",
    "        s[i] = sample_poly_cbd(PRF(ETA1, sigma, bytes([N])), ETA1)\n",
    "        N += 1\n",
    "\n",
    "    for i in range(k_value):\n",
    "        e[i] = sample_poly_cbd(PRF(ETA1, sigma, bytes([N])), ETA1)\n",
    "        N += 1\n",
    "\n",
    "    sc = [ntt(s[i]) for i in range(k_value)]\n",
    "    ec = [ntt(e[i]) for i in range(k_value)]\n",
    "    tc = [reduce(vector_add, [multiply_ntt_s(Ac[i][j], sc[j]) for j in range(k_value)] + [ec[i]]) for i in range(k_value)]\n",
    "\n",
    "    ek_PKE = b\"\".join(byte_encode(12, tc_elem) for tc_elem in tc) + rho\n",
    "    dk_PKE = b\"\".join(byte_encode(12, sc_elem) for sc_elem in sc)\n",
    "\n",
    "    return ek_PKE, dk_PKE\n",
    "\n",
    "def k_pke_encrypt(ek_PKE, m, rand):\n",
    "    N = 0\n",
    "    tc = [byte_decode(12, ek_PKE[i * 384 : (i + 1) * 384]) for i in range(k_value)]\n",
    "    rho = ek_PKE[384 * k_value : 384 * k_value + 32]\n",
    "    Ac = [[None for _ in range(k_value)] for _ in range(k_value)]\n",
    "    r = [None for _ in range(k_value)]\n",
    "    e1 = [None for _ in range(k_value)]\n",
    "\n",
    "    for i in range(k_value):\n",
    "        for j in range(k_value):\n",
    "            Ac[i][j] = sample_ntt(XOF(rho, i, j))\n",
    "\n",
    "\n",
    "    for i in range(k_value):\n",
    "        r[i] = sample_poly_cbd(PRF(ETA1, rand, bytes([N])), ETA1)\n",
    "        N += 1\n",
    "\n",
    "    \n",
    "    for i in range(k_value):\n",
    "        e1[i] = sample_poly_cbd(PRF(ETA2, rand, bytes([N])), ETA2)\n",
    "        N += 1\n",
    "\n",
    "    e2 = sample_poly_cbd(PRF(ETA2, rand, bytes([N])), ETA2)\n",
    "    rc = [ntt(r[i]) for i in range(k_value)]\n",
    "\n",
    "    u = [vector_add(ntt_inv(reduce(vector_add, [multiply_ntt_s(Ac[j][i], rc[j]) for j in range(k_value)])), e1[i]) for i in range(k_value)]\n",
    "\n",
    "    mu = decompress(1, byte_decode(1, m))\n",
    "\n",
    "    v = vector_add(ntt_inv(reduce(vector_add, [multiply_ntt_s(tc[i], rc[i]) for i in range(k_value)])), vector_add(e2, mu))\n",
    "\n",
    "    c1 = b\"\".join(byte_encode(DU, compress(DU, u[i])) for i in range(k_value))\n",
    "    c2 = byte_encode(DV, compress(DV, v))\n",
    "\n",
    "\n",
    "    \n",
    "    return c1 + c2\n",
    "\n",
    "def k_pke_decrypt(dk_PKE, c):\n",
    "    c1 = c[:32 * DU * k_value]\n",
    "    c2 = c[32 * DU * k_value : 32 * (DU * k_value + DV)]\n",
    "    u = [decompress(DU, byte_decode(DU, c1[i * 32 * DU : (i + 1) * 32 * DU])) for i in range(k_value)]\n",
    "\n",
    "    v = decompress(DV, byte_decode(DV, c2))\n",
    "\n",
    "    sc = [byte_decode(12, dk_PKE[i * 384 : (i + 1) * 384]) for i in range(k_value)]\n",
    "\n",
    "    w = vector_sub(v, ntt_inv(reduce(vector_add, [multiply_ntt_s(sc[i], ntt(u[i])) for i in range(k_value)])))\n",
    "\n",
    "    return byte_encode(1, compress(1, w))"
   ]
  },
  {
   "cell_type": "markdown",
   "id": "ef03d5b4-2707-4138-9405-d56498b9e978",
   "metadata": {},
   "source": [
    "### L-KEM Key-Encapsulation Mechanism"
   ]
  },
  {
   "cell_type": "code",
   "execution_count": 153,
   "id": "0dfde543-f98b-4efc-950e-0a293687c699",
   "metadata": {},
   "outputs": [],
   "source": [
    "def ml_kem_keygen():\n",
    "    z = os.urandom(32)\n",
    "    ek_PKE, dk_PKE = k_pke_keygen()\n",
    "    ek = ek_PKE\n",
    "    dk = dk_PKE + ek + H(ek) + z\n",
    "\n",
    "    return ek, dk\n",
    "\n",
    "\n",
    "def ml_kem_encaps(ek):\n",
    "\n",
    "    # Input validation\n",
    "    \n",
    "    # Type check\n",
    "    assert(len(ek) == 384*k_value+32)\n",
    "    # Modulus check\n",
    "    #ek_aux = byte_encode(12,byte_decode(12,ek))\n",
    "    #assert(ek == ek_aux)\n",
    "\n",
    "    \n",
    "    m = os.urandom(32)\n",
    "    K, r = G(m + H(ek))\n",
    "    c = k_pke_encrypt(ek, m, r)\n",
    "\n",
    "    return K, c\n",
    "\n",
    "\n",
    "def ml_kem_decaps(c, dk):\n",
    "\n",
    "    # Input validation\n",
    "    \n",
    "    # Cipher text typecheck\n",
    "    assert(len(c) == 32*(DU*k_value+DV))\n",
    "    # Decapsulation key typecheck\n",
    "    assert(len(dk) == 768*k_value+96)\n",
    "    \n",
    "    dk_PKE = dk[0: 384 * k_value]\n",
    "    ek_PKE = dk[384 * k_value : 768 * k_value + 32]\n",
    "    h = dk[768 * k_value + 32 : 768 * k_value + 64]\n",
    "    z = dk[768 * k_value + 64 : 768 * k_value + 96]\n",
    "    ml = k_pke_decrypt(dk_PKE, c)\n",
    "    Kl, rl = G(ml + h)\n",
    "    Kb = J((z + c), 32)\n",
    "    cl = k_pke_encrypt(ek_PKE, ml, rl)\n",
    "    if c != cl:\n",
    "        Kl = Kb\n",
    "\n",
    "    return Kl"
   ]
  },
  {
   "cell_type": "markdown",
   "id": "11a199c5-6916-4be1-9242-26e8cd2d5eaa",
   "metadata": {},
   "source": [
    "## Teste"
   ]
  },
  {
   "cell_type": "code",
   "execution_count": 154,
   "id": "7bb3019c-f457-4518-a384-ea5030640651",
   "metadata": {},
   "outputs": [
    {
     "name": "stdout",
     "output_type": "stream",
     "text": [
      "Teste de cifragem K-PKE\n",
      "\n",
      "\n",
      "message: b'Este e um exemplo de mensagem !!'\n",
      "\n",
      "\n",
      "b'\\xd1\\xeb\\x9b^O\\x97y\\x01_\\xe4\\xd4l\\x9b\\xd6\\xfcd\\xfb\\x84U\\xc4\\x1a\\xacV\\xcd\\x8a\\x9c)nnQC\\xaf\\xdb(\\xea\\x88\\'\\xe4\\x14\\xfeDk\\x9eI\\xa8\\xb1\\x01Y)\\xbf\\x83\\x9c\\xa8V\\'\\x95;V\\xda\\xa9\\xbd\\xba\\xe2>\\xef\\xc1<j\\xd5\\xa3\\x82\\x11I\\xda\\x12\\xdd\\x93\\x94\\x1c\\xe3\\xc0\\x14\\x81&<\\xcd\\xf3L\\xea2\\xfe\\xf4n\\xab7O\\xcat\\xee\\xfb\\x1a\\xc8aD\\xd7\\xf5C\\xe9\\x1a\\x930\\xc0\\xd9*\\xd3>\\x95\\xb9\\xa3\\xc3\\xce\\x93\\xb9\\x8a\\x856\\xd8\\xb9X\\xaf\\x1d\\x9a\\xf8\\xdd\\x84\\x00\\xc2\\xf2\\x9c \\\\\\xf9O\\xef\\xa0\\x18\\x0f\"`\\xed\\x7f\\xb1\\xc7\\xde\\xf7K\\xb7\\x83#\\xfa\\x05F[\\xf1\\xc1\\xb5\\xdd\\xbd\\x8c<\\xf0CX\\x92\\x95\\x1a1T\\xe8\\xcbw\\xa3=*\\xd5KX\\xf1\\xb1\\x03\\xb7\\x7f\\\\\\x8f7\\'\\xfb\\xb1%\\'\\xf6\\x17\\xc7\\xa6\\xddT\\x90\\xb9;g\\x10\\xd4\\xaecTUn\\x8a\\xeaC\\xa6\\x8b\\xa8i\\xc8\\xba\\xf7\\xfc6\\xa4)R|\\x8e\\xc1$\\xed\\xd2TS\\xc7\\xac3\\xd6fP\\xfb\\xc6yD\\x1a\\xa0\\xf1\\xee\\xf9\\xafE\\x95?XB\\xd4\\xf8\\x85\\xc3l\\xd0},P\\xd4\\xbeJ\\x0c\\xf7\\xb0\\x94u\\x19\\xf9\\xfd\\xd1(x\\xe4\\x96\\x94\\xdb\\xdfW\\xa7\\x93\\xaf\\x86\\xcf\\x9a\\xdcJ\\x86\\xc3<\\x82\\xc8\\xb7\\xddG\\xbb\\r\\x8e\\xf7\\x01\\x9c\\xa6L%\\x10\\xc3\\x88\\xe5\\x92\\x8a\\x85\\x05MKU\\xf7`\\'M<\\x9a\\x9d\\xde]\\xc6\\xc0W\\x9a\\xf7b\\xb9!\\xfd\\xb2\\x01\"\\x833\\xd4\\xa3\\x12x\\xcfx\\xa8S\\xb7\\xed\\xba\\xe9|=\\xc8\\x87N\\x12\\x15\\x85\\x13z7\\xbd\\xffc\\xbe\\x03&L\\xdc\"\\xbf\\xbb\\xb0\\x91\\xc0\\xc5\\xb0\\xb8\\x16\\xaa\\x8e+\\xfd\\x92[\\xd7\\x84\\xb8\\x14\\xbc\\x88\\xb6\\xa1=\\xfdE*\\xdaL\\x986\\x99\\xc3\\x1e\\xca\\xad\\xef,\\xa0\\xed\\xad\\xd5\\xd0\\xdaAT\\x95\\x81p\\x0b\\xc0\\x1d\\xde\\x96c\\xa3R\\xe9MA\\xd8\\x80\\x86w\\x00\\x1fFm\\x84\\xd5<\\xc4\\xa9\\xe4V,&\\'\\xdf\\xb8\\x1f\\xc9\\xa3\\xeflv\\x9b\\xa3Q\\xdb\\xee\\xad\\xeen\\x12\\x0c\\x98\\xe5@:\\xdby\\xf2\\xcf\\xc5\\xc0y\\xf1\\x0f\\x85\\x0bq\\xbe\\xd9\\x8c-{\\xeb\\xeaJ=\\x19\\xf6]`}\\xc4\\x8fHR+\\xcf\\xe0\\x94\\xa0\\xff\\x8b\\xf9xl\\xf8\\x1d1\\x90\\x87\\xc1RG;\\x17q\\x1d\\xe3\\xd7\\xc9\\xdd\\xfd\\x8bEW\\x8fm\\xddX\\xef\\xba6\\xa5\\xb9j_\\xfbc>\\x93\\xcc\\xb8\\xd3\\x1eS\\xe3\\xe6\\xde6\\xbc\\xe8A\\xe5\\\\\\x04\\xe4\\x1daYIV\\xd3\\xac\\x8f\\x82\\xf5C\\xeb4ue#\\x14\\xb7\\x0cW\\xfc\\xdb\\x98\\xf8\\xed\\x88Ycm.\\x0e\\x18\\xb7\\r\\x13\\xfc\\xc9\\x87:E\\xf2Q\\x15\\xc7\\xcc\\xbd\\xec\\x93\\xb90\\x9b\\x17f\\x0b\\\\\\xe5\\x1bJ\\n|\\xc3\\xdd\\xa9\\xe2\\x04\\x07\\'\\xe8e\\xa6\\xf5U\\x17\\x18\\x1c\\xea\\x9a\\xd5;\\xe0,\\xa0\\x1d\\xdd}:F\\xd9\\x1e\\xacv:X`\\xad@\\x02\\xfa\\xafk\\x13\\x04}.,\\xfbS\\xd8\\xbc.\\x14\\x11\\xfaC\\x16\\xb0\\xe6\\xeaz\\xb1T\\xeb\\xe2\\xedIU\\\\\\x9e\\xfe\\xf3\\xaa\\xa3/bb\\x01N\\xafUFh-\\xa3\\xb3\\x18\\xfb!G\\xcb\\xa34\\x85\\xf6\\x93n4\\x84\\x88\\xef\\xd2.mH\\x1d\\xe5b\\xfep\\xce1\\x9d\\x1b\\x892\\xe5\\xf4\\xe6\\x02\\x01\\x0b\\xff\\nER\\'~\\xa2\\xde\\xadB%\\x08\\x8f\\xe4g*'\n",
      "\n",
      "\n",
      "message: b'Este e um exemplo de mensagem !!'\n"
     ]
    }
   ],
   "source": [
    "rand = os.urandom(32)\n",
    "print('Teste de cifragem K-PKE\\n\\n')\n",
    "message = b'Este e um exemplo de mensagem !!'\n",
    "ek_PKE, dk_PKE = k_pke_keygen()\n",
    "#  \n",
    "print('message:', message)\n",
    "print('\\n')\n",
    "cipher = k_pke_encrypt(ek_PKE, message, rand)\n",
    "print(cipher)\n",
    "print('\\n')\n",
    "# \n",
    "message2 = k_pke_decrypt(dk_PKE, cipher)\n",
    "print('message:', message2)"
   ]
  },
  {
   "cell_type": "code",
   "execution_count": 155,
   "id": "ed9c5056-bbdf-44cf-84cb-10f6b1346531",
   "metadata": {},
   "outputs": [
    {
     "name": "stdout",
     "output_type": "stream",
     "text": [
      "Teste ML-KEM\n",
      "\n",
      "Teste passou com sucesso. As chaves são iguais!\n"
     ]
    }
   ],
   "source": [
    "print('Teste ML-KEM\\n')\n",
    "ek, dk = ml_kem_keygen()\n",
    "#print('ek:', ek)\n",
    "#print('dk:', dk)\n",
    "\n",
    "K, c = ml_kem_encaps(ek)\n",
    "#print('K:', K)\n",
    "#print('c:', c)\n",
    "\n",
    "Kl = ml_kem_decaps(c, dk)\n",
    "\n",
    "if K == Kl:\n",
    "    print('Teste passou com sucesso. As chaves são iguais!')\n",
    "else:\n",
    "    print('Teste falhou')"
   ]
  },
  {
   "cell_type": "code",
   "execution_count": null,
   "id": "ac407a6e-d668-48c9-8520-807a10c4d461",
   "metadata": {},
   "outputs": [],
   "source": []
  }
 ],
 "metadata": {
  "kernelspec": {
   "display_name": "daa_kern",
   "language": "python",
   "name": "daa_kern"
  },
  "language_info": {
   "codemirror_mode": {
    "name": "ipython",
    "version": 3
   },
   "file_extension": ".py",
   "mimetype": "text/x-python",
   "name": "python",
   "nbconvert_exporter": "python",
   "pygments_lexer": "ipython3",
   "version": "3.10.0"
  }
 },
 "nbformat": 4,
 "nbformat_minor": 5
}
