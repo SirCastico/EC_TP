{
 "cells": [
  {
   "cell_type": "markdown",
   "id": "f9cd732e-4ca2-4a64-aaf9-4453c97d3cdb",
   "metadata": {},
   "source": [
    "# Estruturas Cripográficas - TP2-1\n",
    "### PG53721 - Carlos Machado\n",
    "### PG54249 - Tiago Oliveira\n",
    "### Enunciado - Construir uma classe Python que implemente o  EdDSA a partir do “standard” FIPS186-5\n",
    "\n",
    "1. A implementação deve conter funções para assinar digitalmente e verificar a assinatura.\n",
    "2. A implementação da classe deve usar  uma das “Twisted Edwards Curves” definidas no standard e escolhida  na iniciação da classe: a curva  *edwards25519* ou *edwards448*.\n",
    "\n",
    "Nesta exercício, escolhemos implementar, usando SageMath, a curva *edwards25519*, guiando-nos pelo RFC 8032, que define a implementação de EdDSA."
   ]
  },
  {
   "cell_type": "code",
   "execution_count": 1,
   "id": "89476736-d106-43be-9153-2ee96b3e849b",
   "metadata": {},
   "outputs": [],
   "source": [
    "import os\n",
    "import hashlib"
   ]
  },
  {
   "cell_type": "markdown",
   "id": "36e85cc8-9d82-4e04-8e90-55c86e0f16ee",
   "metadata": {},
   "source": [
    "Declaramos aqui os parâmetros da curva *edwards25519*, tal como declarados no RFC 8032 "
   ]
  },
  {
   "cell_type": "code",
   "execution_count": 2,
   "id": "1ec07abc-4669-4483-8c6a-ffec117388a0",
   "metadata": {},
   "outputs": [],
   "source": [
    "\n",
    "class Ed25519Vars:\n",
    "    p = 2^255 - 19\n",
    "    Fp = GF(p)\n",
    "    #c = 3\n",
    "    #n = 254\n",
    "    d = Fp(37095705934669439343138083508754565189542113879843219016388785533085940283555)\n",
    "    #a = -1\n",
    "    Bx = Fp(15112221349535400772501151409588531511454012693041857206046113283949847762202)\n",
    "    By = Fp(46316835694926478169428394003475163141307993866256225615783033603165251855960)\n",
    "    B = (Bx, By, Fp(1), Bx*By)\n",
    "    L = 2^252 + 27742317777372353535851937790883648493\n",
    "    #A = 486662\n"
   ]
  },
  {
   "cell_type": "markdown",
   "id": "9b46a2f8-bda2-43ba-aff0-0580c4211a92",
   "metadata": {},
   "source": [
    "Declaramos nesta secção várias funções auxiliares que implementam partes do Ed25519Vars, retirados do RFC 8032 e ligeiramente modificados de forma a usar as características de SageMath"
   ]
  },
  {
   "cell_type": "code",
   "execution_count": 3,
   "id": "5b548439-4063-45ea-a35c-6a0106c9b7b6",
   "metadata": {},
   "outputs": [],
   "source": [
    "def sha512(s):\n",
    "    return bytearray(hashlib.sha512(s).digest())\n",
    "\n",
    "def sha512_modq(s):\n",
    "    return int.from_bytes(sha512(s), \"little\") % int(Ed25519Vars.L)\n",
    "\n",
    "def point_add(P, Q):\n",
    "    A, B = (P[1]-P[0]) * (Q[1]-Q[0]), (P[1]+P[0]) * (Q[1]+Q[0]);\n",
    "    C, D = 2 * P[3] * Q[3] * Ed25519Vars.d, 2 * P[2] * Q[2];\n",
    "    E, F, G, H = B-A, D-C, D+C, B+A;\n",
    "    return (E*F, G*H, F*G, E*H);\n",
    "\n",
    "def point_mul(s, P):\n",
    "    Q = (0, 1, 1, 0)  # Neutral element\n",
    "    while s > 0:\n",
    "        if s & 1:\n",
    "            Q = point_add(Q, P)\n",
    "        P = point_add(P, P)\n",
    "        s >>= 1\n",
    "    return Q\n",
    "\n",
    "def point_equal(P, Q):\n",
    "    # x1 / z1 == x2 / z2  <==>  x1 * z2 == x2 * z1\n",
    "    if (P[0] * Q[2] - Q[0] * P[2]) != 0:\n",
    "        return False\n",
    "    if (P[1] * Q[2] - Q[1] * P[2]) != 0:\n",
    "        return False\n",
    "    return True\n",
    "\n",
    "# Square root of -1\n",
    "modp_sqrt_m1 = sqrt(Ed25519Vars.Fp(-1))\n",
    "\n",
    "# Compute corresponding x-coordinate, with low bit corresponding to\n",
    "# sign, or return None on failure\n",
    "def recover_x(y, sign):\n",
    "    x2 = (y*y-1) * (1/(Ed25519Vars.d*y*y+1))\n",
    "    if x2 == 0:\n",
    "        if sign:\n",
    "            return None\n",
    "        else:\n",
    "            return 0\n",
    "\n",
    "    # Compute square root of x2\n",
    "    x = sqrt(x2)\n",
    "    if (x*x - x2) != 0:\n",
    "        x = x * modp_sqrt_m1\n",
    "    if (x*x - x2) != 0:\n",
    "        return None\n",
    "\n",
    "    if (int(x) & 1) != sign:\n",
    "        x = Ed25519Vars.p - x\n",
    "    return x\n",
    "\n",
    "\n",
    "def point_compress(P):\n",
    "    zinv = 1/P[2]\n",
    "    x = P[0] * zinv\n",
    "    y = P[1] * zinv\n",
    "    # assumes y most significant bit = 0 \n",
    "    return int.to_bytes(int(y) | ((int(x) & int(1)) << int(255)), 32, \"little\")\n",
    "\n",
    "def point_decompress(s):\n",
    "    if len(s) != 32:\n",
    "        raise Exception(\"Invalid input length for decompression\")\n",
    "    y = int.from_bytes(s, \"little\")\n",
    "    sign = y >> 255\n",
    "    y &= (1 << 255) - 1\n",
    "\n",
    "    if y>=Ed25519Vars.p:\n",
    "        return None\n",
    "\n",
    "    y = Ed25519Vars.Fp(y)\n",
    "    x = recover_x(y, sign)\n",
    "    if x is None:\n",
    "        return None\n",
    "    else:\n",
    "        return (x, y, Ed25519Vars.Fp(1), x*y)\n",
    "\n",
    "def secret_expand(secret):\n",
    "    if len(secret) != 32:\n",
    "        raise Exception(\"Bad size of private key\")\n",
    "\n",
    "    h = sha512(secret)\n",
    "    a = h[:32]\n",
    "    a[0] &= 248\n",
    "    a[31] &= 127\n",
    "    a[31] |= 64\n",
    "\n",
    "    return (int.from_bytes(a, 'little'), h[32:])\n",
    "\n"
   ]
  },
  {
   "cell_type": "markdown",
   "id": "b4789470-b9f8-4d32-a2ee-65bbfa8e2d36",
   "metadata": {},
   "source": [
    "Declaramos aqui a classe que permitirá o uso de Ed25519Vars, com um método de instância *sign* e um método de classe *verify*"
   ]
  },
  {
   "cell_type": "code",
   "execution_count": 4,
   "id": "b096447c-e9fa-4c5e-9e7c-cecc56ce31b7",
   "metadata": {},
   "outputs": [],
   "source": [
    "\n",
    "class Ed25519:\n",
    "    \n",
    "    def __init__(self, secret_bytes=None):\n",
    "        if secret_bytes is None:\n",
    "            self.secret = os.urandom(32)\n",
    "        elif len(secret_bytes)!=32:\n",
    "            raise Exception(\"Invalid secret length\")\n",
    "        else:\n",
    "            self.secret = secret_bytes\n",
    "\n",
    "        self.scalar, self.prefix = secret_expand(self.secret)\n",
    "        self.public = point_compress(point_mul(self.scalar, Ed25519Vars.B))\n",
    "\n",
    "    def sign(self, msg):\n",
    "        A = self.public\n",
    "        r = sha512_modq(self.prefix + msg)\n",
    "        R = point_mul(r, Ed25519Vars.B)\n",
    "        Rs = point_compress(R)\n",
    "        h = sha512_modq(Rs + A + msg)\n",
    "        s = (r + h * self.scalar) % Ed25519Vars.L\n",
    "        return Rs + int.to_bytes(int(s), 32, \"little\")\n",
    "\n",
    "    @staticmethod\n",
    "    def verify(public, msg, signature):\n",
    "        if len(public) != 32:\n",
    "            raise Exception(\"Bad public key length\")\n",
    "        if len(signature) != 64:\n",
    "            Exception(\"Bad signature length\")\n",
    "        A = point_decompress(public)\n",
    "        if not A:\n",
    "            return False\n",
    "        Rs = signature[:32]\n",
    "        R = point_decompress(Rs)\n",
    "        if not R:\n",
    "            return False\n",
    "        s = int.from_bytes(signature[32:], \"little\")\n",
    "        if s >= Ed25519Vars.L: return False\n",
    "        h = sha512_modq(Rs + public + msg)\n",
    "        sB = point_mul(s, Ed25519Vars.B)\n",
    "        hA = point_mul(h, A)\n",
    "        return point_equal(sB, point_add(R, hA))\n"
   ]
  },
  {
   "cell_type": "markdown",
   "id": "7a924e05-5d85-439f-bde5-6c90cd6e1a40",
   "metadata": {},
   "source": [
    "## Testes"
   ]
  },
  {
   "cell_type": "markdown",
   "id": "accb10fb-d9bd-4a21-a70f-e8d4e06087be",
   "metadata": {},
   "source": [
    "#### Teste com mensagem vazia "
   ]
  },
  {
   "cell_type": "code",
   "execution_count": 5,
   "id": "5e9664bb-09e8-4fd6-847d-cfa96cbe9637",
   "metadata": {},
   "outputs": [],
   "source": [
    "scrt = bytes.fromhex('9d61b19deffd5a60ba844af492ec2cc44449c5697b326919703bac031cae7f60')\n",
    "public = bytes.fromhex('d75a980182b10ab7d54bfed3c964073a0ee172f3daa62325af021a68f707511a')\n",
    "csig = bytes.fromhex('e5564300c360ac729086e2cc806e828a\\\n",
    "                    84877f1eb8e5d974d873e06522490155\\\n",
    "                    5fb8821590a33bacc61e39701cf9b46b\\\n",
    "                    d25bf5f0595bbe24655141438e7a100b')\n",
    "msg = b''\n",
    "\n",
    "ed = Ed25519(secret_bytes=scrt)\n",
    "assert ed.public == public\n",
    "\n",
    "sig = ed.sign(msg)\n",
    "assert csig == sig"
   ]
  },
  {
   "cell_type": "markdown",
   "id": "d188f518-20ff-496d-ad32-08f48885de62",
   "metadata": {},
   "source": [
    "#### Teste com mensagem"
   ]
  },
  {
   "cell_type": "code",
   "execution_count": 6,
   "id": "62dddbb6-9e00-469f-a21d-cfaea6b3ab6a",
   "metadata": {},
   "outputs": [],
   "source": [
    "scrt = bytes.fromhex('c5aa8df43f9f837bedb7442f31dcb7b166d38535076f094b85ce3a2e0b4458f7')\n",
    "public = bytes.fromhex('fc51cd8e6218a1a38da47ed00230f0580816ed13ba3303ac5deb911548908025')\n",
    "csig = bytes.fromhex('6291d657deec24024827e69c3abe01a3\\\n",
    "   0ce548a284743a445e3680d7db5ac3ac\\\n",
    "   18ff9b538d16f290ae67f760984dc659\\\n",
    "   4a7c15e9716ed28dc027beceea1ec40a')\n",
    "msg = bytes.fromhex('af82')\n",
    "\n",
    "ed = Ed25519(secret_bytes=scrt)\n",
    "assert ed.public == public\n",
    "\n",
    "sig = ed.sign(msg)\n",
    "assert csig == sig"
   ]
  },
  {
   "cell_type": "markdown",
   "id": "63ab8703-a40d-464d-816c-f3f5b45d01e3",
   "metadata": {},
   "source": [
    "#### Teste com modificação na mensagem"
   ]
  },
  {
   "cell_type": "code",
   "execution_count": 7,
   "id": "3e207096-ee42-4088-9632-55f661f9549b",
   "metadata": {},
   "outputs": [],
   "source": [
    "ed = Ed25519()\n",
    "msg = bytearray(b'asdasdasdasdasd')\n",
    "sign = ed.sign(msg)\n",
    "msg[2] = 2\n",
    "assert Ed25519.verify(ed.public,msg,sign) == False"
   ]
  },
  {
   "cell_type": "code",
   "execution_count": null,
   "id": "64dbcdb0-4a00-45df-8343-ae97ce49de42",
   "metadata": {},
   "outputs": [],
   "source": []
  }
 ],
 "metadata": {
  "kernelspec": {
   "display_name": "SageMath 10.0",
   "language": "sagemath",
   "name": "sagemath"
  },
  "language_info": {
   "codemirror_mode": {
    "name": "ipython",
    "version": 3
   },
   "file_extension": ".py",
   "mimetype": "text/x-python",
   "name": "python",
   "nbconvert_exporter": "python",
   "pygments_lexer": "ipython3",
   "version": "3.11.6"
  }
 },
 "nbformat": 4,
 "nbformat_minor": 5
}
