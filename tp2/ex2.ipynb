{
 "cells": [
  {
   "cell_type": "markdown",
   "id": "74eb269f-95cc-49d5-aa6b-2021869660c3",
   "metadata": {},
   "source": [
    "# Estruturas Criptográficas - TP2-2\n",
    "### PG53721 - Carlos Machado\n",
    "### PG54249 - Tiago Oliveira\n",
    "### Enunciado - Implementação Sagemath do NTT-CRT\n",
    "\n",
    "Neste problema pretende-se uma implementação *Sagemath* do NTT-CRT, ou seja, a aplicação do teorema chinês dos restos na criptografia."
   ]
  },
  {
   "cell_type": "markdown",
   "id": "212cc04c-0d85-4f4a-9514-afbf3d0b19ea",
   "metadata": {},
   "source": [
    "O primeiro passo, após ter escolhido um **N**, passa por gerar um primo que verifique condição: *q ≡ 1 mod 2N*."
   ]
  },
  {
   "cell_type": "code",
   "execution_count": 49,
   "id": "3356193e-38d1-4664-93b9-ba7f5ce13104",
   "metadata": {},
   "outputs": [],
   "source": [
    "def generate_q(n):\n",
    "    if not  n in [32,64,128,256,512,1024,2048]:\n",
    "            raise ValueError(\"improper argument \",n)\n",
    "    q = 1 + 2*n\n",
    "    while True:\n",
    "        if q.is_prime():\n",
    "            break\n",
    "        q += 2*n\n",
    "    return q"
   ]
  },
  {
   "cell_type": "code",
   "execution_count": 50,
   "id": "767d4c50-6e90-4422-8b23-9c0095aa31f1",
   "metadata": {},
   "outputs": [],
   "source": [
    "n = 1024\n",
    "q = generate_q(n)"
   ]
  },
  {
   "cell_type": "markdown",
   "id": "f9d79699-0534-441e-b910-485444fc0392",
   "metadata": {},
   "source": [
    "De seguida é necessário calcular:\n",
    "\n",
    "- Corpo Finito **F**.\n",
    "- Variável **R** que é o anel de polinómios sobre esse corpo *F*.\n",
    "- A variável **w** que representa o gerador do anel de polinômios.\n",
    "- O poliónio **g** utlizado para calcular as raízes.\n",
    "- O valor de **xi** que representa a última raíz do polínomio *g*."
   ]
  },
  {
   "cell_type": "code",
   "execution_count": 51,
   "id": "7b34d55f-5e98-4b30-b89a-cd426f690601",
   "metadata": {},
   "outputs": [],
   "source": [
    "F = GF(q) ;  R = PolynomialRing(F, name=\"w\")\n",
    "w = R.gen()\n",
    "\n",
    "g = (w^n + 1)\n",
    "xi = g.roots(multiplicities=False)[-1]\n",
    "rs = [xi^(2*i+1)  for i in range(n)] \n",
    "base = crt_basis([(w - r) for r in rs])  "
   ]
  },
  {
   "cell_type": "markdown",
   "id": "976e3d13-da53-428b-bc5f-bbd9bc86939e",
   "metadata": {},
   "source": [
    "A próxima etapa requer a definição de um **f** pertencente a *R​q​*​."
   ]
  },
  {
   "cell_type": "code",
   "execution_count": 52,
   "id": "6c88792a-4d3f-4a15-9c92-1cd7a41f7771",
   "metadata": {},
   "outputs": [],
   "source": [
    "def random_pol(args=None):\n",
    "    return R.random_element(args)"
   ]
  },
  {
   "cell_type": "code",
   "execution_count": 53,
   "id": "3edc8294-2e74-4f8f-a421-2ff5d297b6aa",
   "metadata": {},
   "outputs": [],
   "source": [
    "f = random_pol(1023)"
   ]
  },
  {
   "cell_type": "markdown",
   "id": "dad5b832-9d9e-48fb-9424-531c5a32e7cb",
   "metadata": {},
   "source": [
    "Esta função auxiliar *_expand* permite expandir o polinómio *f* para o tamanho necessário."
   ]
  },
  {
   "cell_type": "code",
   "execution_count": 54,
   "id": "4af20830-9a61-46ec-9efc-f39af02e222d",
   "metadata": {},
   "outputs": [],
   "source": [
    "def _expand_(f): \n",
    "    u = f.list()\n",
    "    return u + [0]*(n-len(u)) "
   ]
  },
  {
   "cell_type": "markdown",
   "id": "428d973a-4dc6-4a8c-a3dd-aae708c7fb2c",
   "metadata": {},
   "source": [
    "O algoritmo recursivo para calcular o vetor **ff** é o seguinte:"
   ]
  },
  {
   "cell_type": "code",
   "execution_count": 55,
   "id": "2d638c68-65b1-400f-a1f0-2f91ed7f3abf",
   "metadata": {},
   "outputs": [],
   "source": [
    "def _ntt_(xi,N,f):\n",
    "    if N==1:\n",
    "        return f\n",
    "    N_ = N/2 ; xi2 =  xi^2  \n",
    "    f0 = [f[2*i]   for i in range(N_)] ; f1 = [f[2*i+1] for i in range(N_)] \n",
    "    ff0 = _ntt_(xi2,N_,f0) ; ff1 = _ntt_(xi2,N_,f1)  \n",
    "\n",
    "    s  = xi ; ff = [F(0) for i in range(N)] \n",
    "    for i in range(N_):\n",
    "        a = ff0[i] ; b = s*ff1[i]  \n",
    "        ff[i] = a + b ; ff[i + N_] = a - b \n",
    "        s = s * xi2                     \n",
    "    return ff "
   ]
  },
  {
   "cell_type": "code",
   "execution_count": 56,
   "id": "9347395c-4a3f-40ce-be1b-91a5163b7853",
   "metadata": {},
   "outputs": [],
   "source": [
    "def ntt(f):\n",
    "    return _ntt_(xi,n,_expand_(f))"
   ]
  },
  {
   "cell_type": "markdown",
   "id": "1e1114ac-c03b-4757-a1d3-a613d89c5765",
   "metadata": {},
   "source": [
    "Transformada inversa:"
   ]
  },
  {
   "cell_type": "code",
   "execution_count": 57,
   "id": "deafb41b-6fe8-4109-85df-eab24e3d32bf",
   "metadata": {},
   "outputs": [],
   "source": [
    "def ntt_inv(ff):                              ## transformada inversa\n",
    "    return sum([ff[i]*base[i] for i in range(n)])"
   ]
  },
  {
   "cell_type": "markdown",
   "id": "1bd6beca-3261-43c0-b3ab-b3521c6c8862",
   "metadata": {},
   "source": [
    "## Teste"
   ]
  },
  {
   "cell_type": "code",
   "execution_count": 58,
   "id": "9557a10c-5357-46b3-aec7-3c830f83284b",
   "metadata": {},
   "outputs": [
    {
     "name": "stdout",
     "output_type": "stream",
     "text": [
      "Correto ?  True\n"
     ]
    }
   ],
   "source": [
    "ff = ntt(f)\n",
    "\n",
    "fff = ntt_inv(ff)\n",
    "\n",
    "# print(fff)\n",
    "print(\"Correto ? \",f == fff)"
   ]
  }
 ],
 "metadata": {
  "kernelspec": {
   "display_name": "SageMath 10.0",
   "language": "sagemath",
   "name": "sagemath"
  },
  "language_info": {
   "codemirror_mode": {
    "name": "ipython",
    "version": 3
   },
   "file_extension": ".py",
   "mimetype": "text/x-python",
   "name": "python",
   "nbconvert_exporter": "python",
   "pygments_lexer": "ipython3",
   "version": "3.11.6"
  }
 },
 "nbformat": 4,
 "nbformat_minor": 5
}
