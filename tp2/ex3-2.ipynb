{
 "cells": [
  {
   "cell_type": "markdown",
   "id": "728e2089-967f-4ece-9de1-25f43e5fa3d9",
   "metadata": {},
   "source": [
    "# TP2-3"
   ]
  },
  {
   "cell_type": "code",
   "execution_count": 1,
   "id": "98ae65ca-221b-4fdd-9569-c88b358b3559",
   "metadata": {},
   "outputs": [],
   "source": [
    "from collections import namedtuple\n",
    "import os"
   ]
  },
  {
   "cell_type": "code",
   "execution_count": 16,
   "id": "b184e07e-6bf3-4f4a-8c13-c2fb7c22bafd",
   "metadata": {},
   "outputs": [],
   "source": [
    "def sha1(v):\n",
    "    return hashlib.sha1(v).digest()\n",
    "\n",
    "def sha224(v):\n",
    "    return hashlib.sha3_224(v).digest()\n",
    "\n",
    "def sha256(v):\n",
    "    return hashlib.sha3_256(v).digest()\n",
    "\n",
    "def sha384(v):\n",
    "    return hashlib.sha3_384(v).digest()\n",
    "\n",
    "def sha512(v):\n",
    "    return hashlib.sha3_512(v).digest()\n",
    "\n",
    "BFSecParam = namedtuple('SecParam', 'bq bp hashfn')\n",
    "\n",
    "class BFSecParams:\n",
    "    n1024 = BFSecParam(160,512,sha1)\n",
    "    n2048 = BFSecParam(224,1024,sha224)\n",
    "    n3072 = BFSecParam(256,1536,sha256)\n",
    "    n7680 = BFSecParam(384,3840,sha384)\n",
    "    n15360 = BFSecParam(512,7680,sha512)\n",
    "\n",
    "\n",
    "class BF:\n",
    "\n",
    "    def __init__(self, params):\n",
    "        bq = params.bq\n",
    "        bp = params.bp\n",
    "        \n",
    "        q = random_prime(2^bq-1,lbound=2^(bq-1))\n",
    "        \n",
    "        t = q*3*2^(bp - bq)\n",
    "        while not is_prime(t-1):\n",
    "            t = t << 1\n",
    "        \n",
    "        p = t - 1\n",
    "        if not is_prime(p):\n",
    "            raise Exception(\"not prime\")\n",
    "        \n",
    "        # Aneis e Corpos\n",
    "        Fp     = GF(p)                  # corpo primo com \"p\" elementos\n",
    "        R.<z>  = Fp[]                   # anel dos polinomios em \"z\" de coeficientes em Fp\n",
    "        f     = R(z^2 + z + 1)\n",
    "        Fp2.<z> = GF(p^2, modulus=f)   \n",
    "        \n",
    "        # Curvas Elipticas supersingulares em Sagemath\n",
    "        \n",
    "        # a curva supersingular sobre Fp2  definida pela equação  y^2 = x^3 + 1\n",
    "        E2 = EllipticCurve(Fp2, [0,1])\n",
    "        \n",
    "        # ponto arbitrário  de ordem \"q\" em E2        \n",
    "        cofac = (p + 1)//q\n",
    "        G = cofac * E2.random_point()\n",
    "    \n",
    "        s = 0\n",
    "        while s<2 or s>q-1:\n",
    "            rb = os.urandom(bq//8)\n",
    "            s = int.from_bytes(rb, 'little')\n",
    "        G_pub = s*G\n",
    "        \n",
    "        self.s = s\n",
    "        self.public = G_pub\n",
    "        self.G = G\n",
    "        self.params = params\n",
    "        self.E2 = E2\n",
    "        self.Fp2 = Fp2\n",
    "        self.Fp = Fp\n",
    "\n",
    "    def key_extract(self, id):\n",
    "        d = self.params.hashfn(id) * self.G\n",
    "        return self.s*d\n",
    "        \n",
    "\n",
    "# extensão de Fp de dimensão 2 cujo módulo é o polinómio \"f\"\n",
    "# o polinómio \"f\"  é irredutivel, tem grau 2 e verifica  z^3 = 1 mod f\n",
    "# se o ponto (x,y) verificar a equação y^2 = x^3 + 1, \n",
    "#      então o ponto (z*x,y) verifica a mesma equação\n",
    "\n",
    "def trace(x):       # função linear que mapeia Fp2  em  Fp\n",
    "    return x + x^p\n",
    "\n",
    "# emparelhamento e oraculo DDHP\n",
    "def phi(P):             # a isogenia que mapeia  (x,y)  ->  (z*x,y)\n",
    "    (x,y) = P.xy()\n",
    "    return E2(z*x,y)\n",
    "\n",
    "def TateX(P,Q,l=1):      # o emparelhamento de Tate generalizado\n",
    "    return P.tate_pairing(phi(Q), q, 2)^l\n",
    "\n",
    "def ddhp(P,Q,R):        # o oraculo DDHP  que decide se (P,Q,R) é um triplo de DH\n",
    "    return tateX(P,Q) == tateX(R,G)"
   ]
  },
  {
   "cell_type": "code",
   "execution_count": 15,
   "id": "58005dd4-421f-467e-a0f3-55100adab500",
   "metadata": {},
   "outputs": [
    {
     "ename": "NameError",
     "evalue": "name 'public' is not defined",
     "output_type": "error",
     "traceback": [
      "\u001b[0;31m---------------------------------------------------------------------------\u001b[0m",
      "\u001b[0;31mNameError\u001b[0m                                 Traceback (most recent call last)",
      "Cell \u001b[0;32mIn[15], line 1\u001b[0m\n\u001b[0;32m----> 1\u001b[0m bf \u001b[38;5;241m=\u001b[39m \u001b[43mBF\u001b[49m\u001b[43m(\u001b[49m\u001b[43mBFSecParams\u001b[49m\u001b[38;5;241;43m.\u001b[39;49m\u001b[43mn2048\u001b[49m\u001b[43m)\u001b[49m\n",
      "Cell \u001b[0;32mIn[14], line 64\u001b[0m, in \u001b[0;36mBF.__init__\u001b[0;34m(self, params)\u001b[0m\n\u001b[1;32m     61\u001b[0m G_pub \u001b[38;5;241m=\u001b[39m s\u001b[38;5;241m*\u001b[39mG\n\u001b[1;32m     63\u001b[0m \u001b[38;5;28mself\u001b[39m\u001b[38;5;241m.\u001b[39ms \u001b[38;5;241m=\u001b[39m s\n\u001b[0;32m---> 64\u001b[0m \u001b[38;5;28mself\u001b[39m\u001b[38;5;241m.\u001b[39mpublic \u001b[38;5;241m=\u001b[39m \u001b[43mpublic\u001b[49m\n\u001b[1;32m     65\u001b[0m \u001b[38;5;28mself\u001b[39m\u001b[38;5;241m.\u001b[39mG \u001b[38;5;241m=\u001b[39m G\n\u001b[1;32m     66\u001b[0m \u001b[38;5;28mself\u001b[39m\u001b[38;5;241m.\u001b[39mparams \u001b[38;5;241m=\u001b[39m params\n",
      "\u001b[0;31mNameError\u001b[0m: name 'public' is not defined"
     ]
    }
   ],
   "source": [
    "bf = BF(BFSecParams.n2048)"
   ]
  },
  {
   "cell_type": "code",
   "execution_count": null,
   "id": "40fb0a2e-9ce4-42b0-962f-831fe7ab57d7",
   "metadata": {},
   "outputs": [],
   "source": []
  }
 ],
 "metadata": {
  "kernelspec": {
   "display_name": "SageMath 10.0",
   "language": "sagemath",
   "name": "sagemath"
  },
  "language_info": {
   "codemirror_mode": {
    "name": "ipython",
    "version": 3
   },
   "file_extension": ".py",
   "mimetype": "text/x-python",
   "name": "python",
   "nbconvert_exporter": "python",
   "pygments_lexer": "ipython3",
   "version": "3.11.6"
  }
 },
 "nbformat": 4,
 "nbformat_minor": 5
}
