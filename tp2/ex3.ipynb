{
 "cells": [
  {
   "cell_type": "markdown",
   "id": "ba5d21ef-05e3-4153-9378-1468b2e7e495",
   "metadata": {},
   "source": [
    "# TP2-3"
   ]
  },
  {
   "cell_type": "markdown",
   "id": "d5eca632-0a46-407a-8bdf-3acd16c0678a",
   "metadata": {},
   "source": [
    "### Emparelhamentos"
   ]
  },
  {
   "cell_type": "code",
   "execution_count": 35,
   "id": "6eb6b3c9-e0a3-4fbb-b04f-39c7feee9858",
   "metadata": {},
   "outputs": [],
   "source": [
    "# Geração dos primos  q, p\n",
    "bq     = 192                # tamanho em bits do primo \"q\"\n",
    "bp     = 768                # tamanho minimo em bits do primo \"p\"\n",
    "\n",
    "q = random_prime(2^bq-1,lbound=2^(bq-1))\n",
    "\n",
    "t = q*3*2^(bp - bq)\n",
    "while not is_prime(t-1):\n",
    "    t = t << 1\n",
    "\n",
    "p = t - 1\n",
    "\n",
    "# Aneis e Corpos\n",
    "Fp     = GF(p)                  # corpo primo com \"p\" elementos\n",
    "R.<z>  = Fp[]                   # anel dos polinomios em \"z\" de coeficientes em Fp\n",
    "f     = R(z^2 + z + 1)\n",
    "Fp2.<z> = GF(p^2, modulus=f)   \n",
    "# extensão de Fp de dimensão 2 cujo módulo é o polinómio \"f\"\n",
    "# o polinómio \"f\"  é irredutivel, tem grau 2 e verifica  z^3 = 1 mod f\n",
    "# se o ponto (x,y) verificar a equação y^2 = x^3 + 1, \n",
    "#      então o ponto (z*x,y) verifica a mesma equação\n",
    "\n",
    "def trace(x):       # função linear que mapeia Fp2  em  Fp\n",
    "    return x + x^p\n",
    "\n",
    "# Curvas Elipticas supersingulares em Sagemath\n",
    "\n",
    "# a curva supersingular sobre Fp2  definida pela equação  y^2 = x^3 + 1\n",
    "E2 = EllipticCurve(Fp2, [0,1])\n",
    "\n",
    "# ponto arbitrário  de ordem \"q\" em E2        \n",
    "cofac = (p + 1)//q\n",
    "G = cofac * E2.random_point()\n",
    "\n",
    "# emparelhamento e oraculo DDHP\n",
    "\n",
    "def phi(P):             # a isogenia que mapeia  (x,y)  ->  (z*x,y)\n",
    "    (x,y) = P.xy()\n",
    "    return E2(z*x,y)\n",
    "\n",
    "def TateX(P,Q,l=1):      # o emparelhamento de Tate generalizado\n",
    "    return P.tate_pairing(phi(Q), q, 2)^l\n",
    "\n",
    "def ddhp(P,Q,R):        # o oraculo DDHP  que decide se (P,Q,R) é um triplo de DH\n",
    "    return tateX(P,Q) == tateX(R,G)"
   ]
  },
  {
   "cell_type": "markdown",
   "id": "2bb64192-7afc-4354-b32b-127b9670dae2",
   "metadata": {},
   "source": [
    "### Configuração"
   ]
  },
  {
   "cell_type": "markdown",
   "id": "347c9e88-97ed-44cd-b2e4-64f1cea74e0d",
   "metadata": {},
   "source": [
    "#### Geração do segredo administrativo e chave pública administrativa\n",
    "De acordo com o stardard *rfc5091*, a geração destes valores, nesta fase de *setup*, é um pouco diferente. No entanto, no nosso caso, acontece da seguinte forma:\n",
    "\n",
    "- **Input**: parâmetro de segurança n (definido no emparelhamento)\n",
    "- **Output**: chave pública e segredo administrativo s\n",
    "\n",
    "**Passos**\n",
    "- gerar s no intervalo 0..q-1 a partir de um PRG\n",
    "- gerar chave pública administrativa a partir de g(s) (g: n -> n∗G)"
   ]
  },
  {
   "cell_type": "code",
   "execution_count": 36,
   "id": "a34142f0-9d9c-4dd4-a676-ffe97c7b47ef",
   "metadata": {},
   "outputs": [],
   "source": [
    "def keyGen(n):\n",
    "\n",
    "    # q já foi definido \n",
    "    # gerar s \n",
    "    s = 1 \n",
    "    #nounce =\n",
    "    #s = PRG(nounce)\n",
    "\n",
    "    # gerar chave pública administrativa\n",
    "    pub_key = s*G\n",
    "\n",
    "    return (pub_key,s)"
   ]
  },
  {
   "cell_type": "markdown",
   "id": "ded49478-09ab-41ce-942e-e9d2d56141ac",
   "metadata": {},
   "source": [
    "### Extração da chave privada"
   ]
  },
  {
   "cell_type": "code",
   "execution_count": 37,
   "id": "77085ba0-141a-478e-8b96-1dcc1a1145fb",
   "metadata": {},
   "outputs": [],
   "source": [
    "id = \"sally@bad.com\""
   ]
  },
  {
   "cell_type": "code",
   "execution_count": 44,
   "id": "ad917fa1-5308-42b6-97ff-df081478dece",
   "metadata": {},
   "outputs": [],
   "source": [
    "def h(inp):\n",
    "    byte_string = inp.encode('utf-8')\n",
    "    value = int.from_bytes(byte_string, byteorder='big')\n",
    "    return value"
   ]
  },
  {
   "cell_type": "markdown",
   "id": "d6fce2a4-315b-41e8-8de5-197fe9d5d91c",
   "metadata": {},
   "source": [
    "$$key\\;\\gets\\;(\\,\\vartheta \\;d \\gets \\mathsf{ID}(\\mathit{id})\\;\\centerdot\\; s* d\\,)$$\n",
    "$$d \\gets \\mathsf{ID}(id)$$\n",
    "$$\\mathsf{ID} \\colon \\mathsf{Bytes} \\to \\mathbb{G}  \\ \\ \\ \\ \\ \\text{definido como} \\quad \\quad\\mathsf{ID}(m) \\equiv g(h(m))$$\n",
    "$$g \\colon \\mathbb{Z} \\to \\mathbb{G}  \\ \\ \\ \\ \\ \\text{definido como} \\quad \\;g \\colon n \\mapsto n \\ast G$$\n",
    "$$h \\colon \\mathsf{Bytes} \\to \\mathbb{Z}$$"
   ]
  },
  {
   "cell_type": "code",
   "execution_count": 45,
   "id": "30d569dd-bd78-45ae-8e1e-4a3574afe807",
   "metadata": {},
   "outputs": [],
   "source": [
    "def keyExtract(id):\n",
    "    \n",
    "    d = h(id)*G\n",
    "    return s*d"
   ]
  },
  {
   "cell_type": "markdown",
   "id": "b01caff1-5691-48c1-bab4-498d94f701c0",
   "metadata": {},
   "source": [
    "### Crifrar"
   ]
  },
  {
   "cell_type": "code",
   "execution_count": 22,
   "id": "72c45594-4277-41f5-841a-cdffd0f1b997",
   "metadata": {},
   "outputs": [],
   "source": [
    "def Xor(a,b):\n",
    "    int_a = int(a)\n",
    "    int_b = int(b)\n",
    "    return int_a ^^ int_b  "
   ]
  },
  {
   "cell_type": "code",
   "execution_count": 23,
   "id": "248e7f04-673b-4da7-99a9-3b1676b50dfd",
   "metadata": {},
   "outputs": [],
   "source": [
    "def H(inp):\n",
    "    return"
   ]
  },
  {
   "cell_type": "markdown",
   "id": "d91f1df3-150c-4654-9ebf-7df14a15eea2",
   "metadata": {},
   "source": [
    "Para cifrar, criamos os métodos auxiliares de *enc_in* e *enc_out* que se devem comportar da seguinte maneira:\n",
    "\n",
    "$$\\mathsf{in}(\\mathit{id},x) \\equiv \\vartheta\\,d\\gets\\mathsf{ID}(\\mathit{id})\\,\\centerdot\\,\\vartheta\\,v\\gets\\mathsf{Zr}\\,\\centerdot\\,\\vartheta\\,a\\gets H(v\\oplus x)\\,\\centerdot\\,\\vartheta\\,\\mu\\gets\\mathbf{ex}(\\beta,d,a)\\,\\centerdot\\,\\langle x,v,a,\\mu\\rangle$$\n",
    "\n",
    "$$\\mathsf{out}(x,v,a,\\mu) \\equiv \\vartheta\\,\\alpha\\gets g(a)\\,\\centerdot\\,\\vartheta\\,v'\\gets v\\oplus f(\\mu)\\,\\centerdot\\,x'\\gets x\\oplus H(v)\\,\\centerdot\\,\\langle \\alpha,v',x'\\rangle$$\n"
   ]
  },
  {
   "cell_type": "code",
   "execution_count": 24,
   "id": "26971d83-bcd7-4e45-9196-4bdc1e8e8d0b",
   "metadata": {},
   "outputs": [],
   "source": [
    "def enc_in(id,x):\n",
    "    return\n",
    "\n",
    "def enc_out(x,v,a,u):\n",
    "    return"
   ]
  },
  {
   "cell_type": "markdown",
   "id": "48b42735-e74a-4d08-a762-85d251dc3fb8",
   "metadata": {},
   "source": [
    "O próprio método para cifrar usa estes auxiliares da seguinte forma:\n",
    "$$\\mathsf{Encrypt}(\\mathit{id}, x) \\;\\equiv\\; \\vartheta \\,x,v,a,\\mu \\gets \\mathsf{in}(\\mathit{id},x)\\,\\centerdot\\,\\mathsf{out}(x,v,a,\\mu)$$"
   ]
  },
  {
   "cell_type": "code",
   "execution_count": 25,
   "id": "ba84c452-61d0-4e42-bb20-02e0e8e9fa27",
   "metadata": {},
   "outputs": [],
   "source": [
    "def encrypt(id,x):\n",
    "    \n",
    "    inter = enc_in(id,x)\n",
    "    out = enc_out(inter)"
   ]
  },
  {
   "cell_type": "markdown",
   "id": "c7b6bec8-a9a9-47f6-a53c-bd259c900361",
   "metadata": {},
   "source": [
    "### Decifrar"
   ]
  },
  {
   "cell_type": "code",
   "execution_count": 47,
   "id": "c234e889-c181-4852-9898-763a53ec5f72",
   "metadata": {},
   "outputs": [],
   "source": [
    "key = keyExtract(id)"
   ]
  },
  {
   "cell_type": "markdown",
   "id": "4c1b73aa-1cd8-4222-b01e-6964e38d5c72",
   "metadata": {},
   "source": [
    "De forma semelhante, mas agora para decifrar, criamos os métodos auxiliares de *dec_in* e *dec_out* que se devem comportar da seguinte maneira:\n",
    "$$\\mathsf{in}(\\mathit{key},\\alpha, v', x') \\equiv \\vartheta\\,\\mu \\gets \\mathbf{ex}(\\alpha,\\mathit{key},1)\\,\\centerdot\\,\\vartheta\\,v \\gets v'\\oplus f(\\mu)\\,\\centerdot\\,x\\gets x'\\oplus H(v)\\,\\centerdot\\,\\langle \\alpha,v,x\\rangle$$\n",
    "$$\\mathsf{out}(\\alpha,v,x) \\equiv \\vartheta\\,a\\gets H(v\\oplus x)\\,\\centerdot\\,\\mathsf{if}\\;\\;\\alpha\\neq g(a)\\;\\;\\mathsf{then}\\;\\;\\texttt{fails}\\;\\;\\mathsf{else}\\;\\;x$$"
   ]
  },
  {
   "cell_type": "code",
   "execution_count": null,
   "id": "a9a0d76e-d7ee-4a5d-9ed6-78e674a6f325",
   "metadata": {},
   "outputs": [],
   "source": [
    "def dec_in():\n",
    "    return\n",
    "\n",
    "def dec_out():\n",
    "    return"
   ]
  },
  {
   "cell_type": "markdown",
   "id": "e0e8f3c3-c407-4e10-8791-fdcc959a47ac",
   "metadata": {},
   "source": [
    "O método para decifrar funciona desta forma:\n",
    "$$\\mathsf{Decrypt}(\\mathit{key}, c) \\;\\equiv\\; \\vartheta \\,\\alpha,v,x \\gets \\mathsf{in}(\\mathit{key},c)\\,\\centerdot\\,\\mathsf{out}(\\alpha,v,x)$$"
   ]
  },
  {
   "cell_type": "code",
   "execution_count": null,
   "id": "3c195b3d-1398-4ff5-9288-d00cd4c30f8f",
   "metadata": {},
   "outputs": [],
   "source": [
    "def decrypt():\n",
    "    return"
   ]
  }
 ],
 "metadata": {
  "kernelspec": {
   "display_name": "SageMath 9.5",
   "language": "sage",
   "name": "sagemath"
  },
  "language_info": {
   "codemirror_mode": {
    "name": "ipython",
    "version": 3
   },
   "file_extension": ".py",
   "mimetype": "text/x-python",
   "name": "python",
   "nbconvert_exporter": "python",
   "pygments_lexer": "ipython3",
   "version": "3.10.12"
  }
 },
 "nbformat": 4,
 "nbformat_minor": 5
}
