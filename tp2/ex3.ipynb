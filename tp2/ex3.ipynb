{
 "cells": [
  {
   "cell_type": "markdown",
   "id": "728e2089-967f-4ece-9de1-25f43e5fa3d9",
   "metadata": {},
   "source": [
    "# Estruturas Criptográficas - TP2-3\n",
    "### PG53721 - Carlos Machado\n",
    "### PG54249 - Tiago Oliveira\n",
    "### Enunciado: Implementação do algoritmo de Boneh e Franklin (BF) com SageMath \n"
   ]
  },
  {
   "cell_type": "code",
   "execution_count": 1,
   "id": "98ae65ca-221b-4fdd-9569-c88b358b3559",
   "metadata": {},
   "outputs": [],
   "source": [
    "from collections import namedtuple\n",
    "import os\n",
    "import hashlib"
   ]
  },
  {
   "cell_type": "markdown",
   "id": "68cc7201-3c30-4acf-9d6a-30a56c690895",
   "metadata": {},
   "source": [
    "Definimos aqui funções de hash auxiliares que serão usadas, dando destaque à *hash_to_range*, que transforma um array de bytes para um nº abaixo de um limite."
   ]
  },
  {
   "cell_type": "code",
   "execution_count": 2,
   "id": "b184e07e-6bf3-4f4a-8c13-c2fb7c22bafd",
   "metadata": {},
   "outputs": [],
   "source": [
    "\n",
    "def hash_to_range(s,n,hashfcn):\n",
    "\n",
    "    # hashlen: the number of octets comprising the output of hashfcn\n",
    "    hashlen = len(hashfcn(b''))\n",
    "\n",
    "    v_i = 0\n",
    "    h_i = b'\\x00' * hashlen\n",
    "\n",
    "    for i in range(1, 3):\n",
    "        \n",
    "        # concatenate h_(i-1) and s to form t_i\n",
    "        t_i = h_i + s\n",
    "\n",
    "        # hash of t_i\n",
    "        h_i = hashfcn(t_i)\n",
    "\n",
    "        # convert h_i to integer a_i\n",
    "        a_i = int.from_bytes(h_i, 'big')\n",
    "\n",
    "        # compute v_i\n",
    "        v_i = 256 ** hashlen * v_i + a_i\n",
    "\n",
    "    v = v_i % n\n",
    "\n",
    "    return v\n",
    "\n",
    "def sha1(v):\n",
    "    return hashlib.sha1(v).digest()\n",
    "\n",
    "def sha224(v):\n",
    "    return hashlib.sha3_224(v).digest()\n",
    "\n",
    "def sha256(v):\n",
    "    return hashlib.sha3_256(v).digest()\n",
    "\n",
    "def sha384(v):\n",
    "    return hashlib.sha3_384(v).digest()\n",
    "\n",
    "def sha512(v):\n",
    "    return hashlib.sha3_512(v).digest()\n"
   ]
  },
  {
   "cell_type": "markdown",
   "id": "45b5e033-4bb8-4f47-b21b-f962e45be333",
   "metadata": {},
   "source": [
    "---\n",
    "\n",
    "Definimos aqui os parâmetros de segurança para Boneh-Franklin, tal como estavam no RFC 5091."
   ]
  },
  {
   "cell_type": "code",
   "execution_count": 3,
   "id": "c4dfb347-88c2-414d-8257-34bb571cd0e7",
   "metadata": {},
   "outputs": [],
   "source": [
    "BFSecParam = namedtuple('SecParam', 'bq bp hashfn')\n",
    "\n",
    "class BFSecParams:\n",
    "    n1024 = BFSecParam(160,512,sha1)\n",
    "    n2048 = BFSecParam(224,1024,sha224)\n",
    "    n3072 = BFSecParam(256,1536,sha256)\n",
    "    n7680 = BFSecParam(384,3840,sha384)\n",
    "    n15360 = BFSecParam(512,7680,sha512)"
   ]
  },
  {
   "cell_type": "markdown",
   "id": "f27726f0-4ea9-4939-a20e-ff0a122f20f8",
   "metadata": {},
   "source": [
    "---\n",
    "\n",
    "Definimos aqui a classe que representa o grupo de torção numa curva elíptica que será usado no algoritmo de Boneh-Franklin.\n",
    "\n",
    "Dados os parâmetros de segurança, é gerado um nº primo *q* e um nº primo *p* múltiplo de 3 tal que *q* é divisor de *p+1*.\n",
    "\n",
    "São depois gerados dois corpos finitos *Fp* e *Fp^2*, as curvas *E1 = E/Fp* e *E2 = E/Fp^2*, e um grupo de torção *G* de ordem *q* em *E2*.\n",
    "\n",
    "É também declarado a função de emparelhamento generalizado *tateX*"
   ]
  },
  {
   "cell_type": "code",
   "execution_count": 4,
   "id": "76f35a0c-18e0-4204-a527-ea8bfc2580b7",
   "metadata": {},
   "outputs": [],
   "source": [
    "class BFGroup:\n",
    "    def __init__(self, params):\n",
    "        bq = params.bq\n",
    "        bp = params.bp\n",
    "        \n",
    "        q = random_prime(2^bq-1,lbound=2^(bq-1))\n",
    "        \n",
    "        t = q*3*2^(bp - bq)\n",
    "        while not is_prime(t-1):\n",
    "            t = t << 1\n",
    "        \n",
    "        p = t - 1\n",
    "        \n",
    "        # Aneis e Corpos\n",
    "        Fp     = GF(p)                  # corpo primo com \"p\" elementos\n",
    "        R.<z>  = Fp[]                   # anel dos polinomios em \"z\" de coeficientes em Fp\n",
    "        f     = R(z^2 + z + 1)\n",
    "        Fp2.<z> = GF(p^2, modulus=f)   \n",
    "        \n",
    "        # Curvas Elipticas supersingulares em Sagemath\n",
    "        \n",
    "        # a curva supersingular sobre Fp2  definida pela equação  y^2 = x^3 + 1\n",
    "        E2 = EllipticCurve(Fp2, [0,1])\n",
    "\n",
    "        # ponto arbitrário  de ordem \"q\" em E2        \n",
    "        cofac = (p + 1)//q\n",
    "        G = cofac * E2.random_point()\n",
    "\n",
    "        self.G = G\n",
    "        self.bq = params.bq\n",
    "        self.bp = params.bp\n",
    "        self.hashfn = params.hashfn\n",
    "        self.E2 = E2\n",
    "        self.Fp2 = Fp2\n",
    "        self.Fp = Fp\n",
    "        self.q = q\n",
    "        self.p = p\n",
    "        self.z = z\n",
    "\n",
    "    def trace(self,x):       # função linear que mapeia Fp2  em  Fp\n",
    "        return x + x^self.p\n",
    "\n",
    "    def phi(self,P):             # a isogenia que mapeia  (x,y)  ->  (z*x,y)\n",
    "        (x,y) = P.xy()\n",
    "        return self.E2(self.z*x,y)\n",
    "    \n",
    "    def tateX(self,P,Q,l=1):      # o emparelhamento de Tate generalizado\n",
    "        return P.tate_pairing(self.phi(Q), self.q, 2)^l"
   ]
  },
  {
   "cell_type": "code",
   "execution_count": 5,
   "id": "58005dd4-421f-467e-a0f3-55100adab500",
   "metadata": {},
   "outputs": [],
   "source": [
    "sg = BFGroup(BFSecParams.n2048)"
   ]
  },
  {
   "cell_type": "markdown",
   "id": "96e747c6-36a3-4d1f-91ac-43df22f800f9",
   "metadata": {},
   "source": [
    "---\n",
    "\n",
    "Definimos aqui a classe que implementa o criptosistema Boneh-Franklin.\n",
    "\n",
    "Ao instanciar a classe, esta gera uma chave privada administrativa e uma chave pública administrativa no grupo recebido, que serão usadas no algoritmo.\n",
    "\n",
    "Define os métodos:\n",
    "\n",
    "- **encrypt**: cifra uma mensagem com a chave pública\n",
    "- **key_extract**: gera uma chave privada com a chave pública\n",
    "- **decrypt**: decifra um criptograma com a chave privada"
   ]
  },
  {
   "cell_type": "code",
   "execution_count": 6,
   "id": "ff33cdb6-025c-47a4-ad8c-b1adb63ef5e6",
   "metadata": {},
   "outputs": [],
   "source": [
    "\n",
    "class BF:\n",
    "    \n",
    "    def __init__(self, subgroup):\n",
    "        \n",
    "        s = hash_to_range(os.urandom(subgroup.bq//8), subgroup.q-1, subgroup.hashfn)\n",
    "        G_pub = s*subgroup.G\n",
    "\n",
    "        self.s = s\n",
    "        self.public = G_pub\n",
    "        self.sg = subgroup\n",
    "\n",
    "\n",
    "    def _ID(self, id):\n",
    "        return int.from_bytes(self.sg.hashfn(id),'little') * self.sg.G\n",
    "\n",
    "    def _Zr(self):\n",
    "        return hash_to_range(os.urandom(self.sg.bq//8),self.sg.q-1,self.sg.hashfn)\n",
    "\n",
    "    def _H(self,v):\n",
    "        vb = int(v).to_bytes(self.sg.bq//8,'little')\n",
    "        return hash_to_range(vb,self.sg.q-1,self.sg.hashfn)\n",
    "    \n",
    "    \n",
    "    def key_extract(self, id):\n",
    "        d = self._ID(id)\n",
    "        return self.s*d\n",
    "        \n",
    "    def encrypt(self,id,x):\n",
    "        def _in(self,id,x):\n",
    "            d = self._ID(id)\n",
    "            v = self._Zr()\n",
    "            a = self._H(v^^xi)\n",
    "            u = self.sg.tateX(self.public,d,a)\n",
    "            return (xi,v,a,u)\n",
    "\n",
    "        def _out(self,x,v,a,u):\n",
    "            alpha = a*self.sg.G\n",
    "            vl = int(v)^^int(self.sg.trace(u))\n",
    "            xl = x^^self._H(v)\n",
    "            return (alpha,vl,xl)\n",
    "            \n",
    "        xi = int.from_bytes(x,'little')\n",
    "        x,v,a,u = _in(self,id,xi)\n",
    "        return _out(self,x,v,a,u)\n",
    "\n",
    "    def decrypt(self,key,c):\n",
    "        def _in(self,key,alpha,vl,xl):\n",
    "            u = self.sg.tateX(alpha,key,1)\n",
    "            v = int(vl)^^int(self.sg.trace(u))\n",
    "            vh = self._H(v)\n",
    "            x = xl^^vh\n",
    "            return alpha,v,x\n",
    "\n",
    "        def _out(self,alpha,v,x):\n",
    "            a = self._H(v^^x)\n",
    "            if alpha != a*self.sg.G:\n",
    "                raise Exception('failed decryption')\n",
    "            else:\n",
    "                return x\n",
    "\n",
    "        alpha,vl,xl = c\n",
    "        alpha,v,x = _in(self,key,alpha,vl,xl)\n",
    "        x = _out(self,alpha,v,x)\n",
    "        return int(x).to_bytes(len(msg),'little')\n",
    "            "
   ]
  },
  {
   "cell_type": "code",
   "execution_count": 7,
   "id": "072bb96c-9680-4cac-858b-2308c05e744f",
   "metadata": {},
   "outputs": [],
   "source": [
    "bf = BF(sg)"
   ]
  },
  {
   "cell_type": "markdown",
   "id": "a720c0cc-20e6-4cf7-b47d-b90ad0d17b2f",
   "metadata": {},
   "source": [
    "### Teste - cifragem e decifragem"
   ]
  },
  {
   "cell_type": "code",
   "execution_count": 8,
   "id": "d77b614c-fd67-43a7-a152-4dd5610ab7ee",
   "metadata": {},
   "outputs": [
    {
     "name": "stdout",
     "output_type": "stream",
     "text": [
      "are messages equal? True\n"
     ]
    }
   ],
   "source": [
    "id = b'sallybad'\n",
    "msg = b'yepyep'\n",
    "\n",
    "c = bf.encrypt(id,msg)\n",
    "\n",
    "s_key = bf.key_extract(id)\n",
    "xmsg = bf.decrypt(s_key,c)\n",
    "\n",
    "print('are messages equal?', xmsg == msg)\n",
    "assert xmsg == msg"
   ]
  },
  {
   "cell_type": "code",
   "execution_count": null,
   "id": "bdd002c7-affb-46d7-8ece-a1c5ff04d654",
   "metadata": {},
   "outputs": [],
   "source": []
  }
 ],
 "metadata": {
  "kernelspec": {
   "display_name": "SageMath 10.0",
   "language": "sagemath",
   "name": "sagemath"
  },
  "language_info": {
   "codemirror_mode": {
    "name": "ipython",
    "version": 3
   },
   "file_extension": ".py",
   "mimetype": "text/x-python",
   "name": "python",
   "nbconvert_exporter": "python",
   "pygments_lexer": "ipython3",
   "version": "3.11.6"
  }
 },
 "nbformat": 4,
 "nbformat_minor": 5
}
