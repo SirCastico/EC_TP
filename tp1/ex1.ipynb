{
 "cells": [
  {
   "cell_type": "code",
   "execution_count": 1,
   "metadata": {},
   "outputs": [],
   "source": [
    "import ascon\n",
    "import asyncio\n",
    "\n",
    "seed = b'yep'\n",
    "message = b'yo'\n",
    "loop_forever = True"
   ]
  },
  {
   "cell_type": "code",
   "execution_count": 2,
   "metadata": {},
   "outputs": [
    {
     "name": "stdout",
     "output_type": "stream",
     "text": [
      "receiver: started\n",
      "receiver: counter: 1\n",
      "receiver: received and decrypted: b'yo'\n",
      "\n",
      "receiver: counter: 2\n",
      "receiver: received and decrypted: b'yo'\n",
      "\n",
      "receiver: counter: 3\n",
      "receiver: received and decrypted: b'yo'\n",
      "\n",
      "receiver: counter: 4\n",
      "receiver: received and decrypted: b'yo'\n",
      "\n"
     ]
    }
   ],
   "source": [
    "class ServerState:\n",
    "    key: bytes\n",
    "    nonce: bytes\n",
    "    associated_data: bytes\n",
    "    cntr: int\n",
    "    seed: bytes\n",
    "    message: bytes\n",
    "    loop_forever: bool\n",
    "    server: asyncio.Server\n",
    "\n",
    "    def __init__(self, seed, message, loop_forever) -> None:\n",
    "        self.cntr = 0\n",
    "        self.key = ascon.hash(seed+bytes(self.cntr), 'Ascon-Xof', 16)\n",
    "        self.associated_data = b''\n",
    "        self.seed = seed\n",
    "        self.message = message\n",
    "        self.loop_forever = loop_forever\n",
    "    \n",
    "    async def handle_connection(self, reader: asyncio.StreamReader, writer: asyncio.StreamWriter):\n",
    "        self.cntr+=1\n",
    "        print('receiver: counter:', self.cntr)\n",
    "\n",
    "        self.nonce = ascon.hash(self.seed+bytes(self.cntr), 'Ascon-Xof', 16)\n",
    "\n",
    "        data = await reader.read(-1)\n",
    "        dc = ascon.decrypt(self.key, self.nonce, self.associated_data, data, 'Ascon-128')\n",
    "\n",
    "        print(f'receiver: received and decrypted: {dc}\\n')\n",
    "\n",
    "        writer.close()\n",
    "        await writer.wait_closed()\n",
    "\n",
    "        if not self.loop_forever:\n",
    "            self.server.close()\n",
    "\n",
    "    async def start_server(self):\n",
    "        self.server = await asyncio.start_server(self.handle_connection, '127.0.0.1', 8098)\n",
    "        print('receiver: started')\n",
    "        async with self.server:\n",
    "            await self.server.serve_forever()\n",
    "\n",
    "server = ServerState(seed, message, loop_forever)\n",
    "\n",
    "server_task = asyncio.get_event_loop().create_task(server.start_server())\n"
   ]
  },
  {
   "cell_type": "code",
   "execution_count": 3,
   "metadata": {},
   "outputs": [
    {
     "name": "stdout",
     "output_type": "stream",
     "text": [
      "emitter: counter:  1\n",
      "emitter: sent enc: b'\\xba\\xf8D\\x10T~.i\\x0eN|\\t\\x8b\\x15\\x06Y\\xc9\\x00'\n",
      "\n",
      "emitter: counter:  2\n",
      "emitter: sent enc: b\"o\\x035a\\x0e\\xa7\\xdd?\\xf2\\xe4T\\xd58\\xc6.\\xc9'-\"\n",
      "\n",
      "emitter: counter:  3\n",
      "emitter: sent enc: b'\\x80!\\x9dj=\\xc8\\xf3b\\xe3\\xbc~d\\xeb\\x1b\\xbd\\xaa\\x8dw'\n",
      "\n",
      "emitter: counter:  4\n",
      "emitter: sent enc: b'\\xd1\\x11\\xe8\\xe5\\x9d8\\xb4F!^_\\x12<\\x05\\xe1Oo\\x9b'\n",
      "\n"
     ]
    }
   ],
   "source": [
    "async def client(seed, message, loop_forever):\n",
    "    cntr = 0\n",
    "\n",
    "    r_bytes = ascon.hash(seed+bytes(cntr), 'Ascon-Xof', 32)\n",
    "    cntr += 1\n",
    "\n",
    "    key = r_bytes[0:16]\n",
    "    nonce = r_bytes[16:32]\n",
    "    associated_data = b''\n",
    "\n",
    "    while True:\n",
    "        reader, writer = await asyncio.open_connection('127.0.0.1', 8098)\n",
    "\n",
    "        print('emitter: counter: ', cntr)\n",
    "        nonce = ascon.hash(seed+bytes(cntr), 'Ascon-Xof', 16)\n",
    "        cntr += 1\n",
    "\n",
    "        crypt = ascon.encrypt(key, nonce, associated_data, message, 'Ascon-128')\n",
    "        writer.write(crypt)\n",
    "        await writer.drain()\n",
    "\n",
    "        print(f'emitter: sent enc: {crypt}\\n')\n",
    "\n",
    "        writer.close()\n",
    "        await writer.wait_closed()\n",
    "\n",
    "        if not loop_forever:\n",
    "            break\n",
    "\n",
    "        await asyncio.sleep(2)\n",
    "\n",
    "client_task = asyncio.get_running_loop().create_task(client(seed,message,loop_forever))\n"
   ]
  },
  {
   "cell_type": "code",
   "execution_count": 4,
   "metadata": {},
   "outputs": [
    {
     "data": {
      "text/plain": [
       "True"
      ]
     },
     "execution_count": 4,
     "metadata": {},
     "output_type": "execute_result"
    }
   ],
   "source": [
    "client_task.cancel()\n",
    "server_task.cancel()"
   ]
  }
 ],
 "metadata": {
  "kernelspec": {
   "display_name": "ec_env",
   "language": "python",
   "name": "python3"
  },
  "language_info": {
   "codemirror_mode": {
    "name": "ipython",
    "version": 3
   },
   "file_extension": ".py",
   "mimetype": "text/x-python",
   "name": "python",
   "nbconvert_exporter": "python",
   "pygments_lexer": "ipython3",
   "version": "3.12.1"
  }
 },
 "nbformat": 4,
 "nbformat_minor": 2
}
