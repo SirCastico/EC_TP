{
 "cells": [
  {
   "cell_type": "markdown",
   "metadata": {},
   "source": [
    "# TP1 - 2\n",
    "## Objetivo\n",
    "Implementar uma AEAD com \"Tweakable Block Ciphers\", usando *AES-256* ou *ChaCha20* e contruir um canal privado de informação assíncrona com acordo de chaves feito com \"X448 key exchange\" e autenticação com \"Ed448 Signing&Verification\""
   ]
  },
  {
   "cell_type": "markdown",
   "metadata": {},
   "source": [
    "## Abordagem\n",
    "Inicialmente, tanto o **cliente** quanto o **servidor** têm de gerar as suas chaves *x448* e *ed448* privadas e públicas.\n",
    "\n",
    "Após estabelecerem uma conexão, ambos enviam a sua chave pública *ed448* **assinada** e a própria assinatura. Em seguida, procedem à leitura da chave recebida, verificando a sua assinatura. Depois disto, enviam a sua *x448* e assinatura e verificam a *x448* recebida.\n",
    "\n",
    "O passo seguinte é o acordo da chave partilhada, em que ambos geram uma \"shared key\" usando o *exchange* do *x448*.\n",
    "Em seguida, é realizada a derivação de chave usando o HKDF.\n"
   ]
  },
  {
   "cell_type": "markdown",
   "metadata": {},
   "source": [
    "### Cliente\n",
    "No caso do **cliente**, após derivar a chave através do HKDF, usando o algoritmo *ChaCha20*, ciframos a mensagem, e após ser assinada, enviamo-la para o servidor."
   ]
  },
  {
   "cell_type": "markdown",
   "metadata": {},
   "source": [
    "### Servidor\n",
    "No que toca ao **servidor**, é lido o *nonce* e o criptograma, e por fim, é decifrada imprimida a mensagem.\n",
    "\n"
   ]
  },
  {
   "cell_type": "code",
   "execution_count": 100,
   "metadata": {},
   "outputs": [],
   "source": [
    "from cryptography.hazmat.primitives import hashes\n",
    "from cryptography.hazmat.primitives.asymmetric import x448\n",
    "from cryptography.hazmat.primitives.kdf.hkdf import HKDF\n",
    "from cryptography.hazmat.primitives.asymmetric import ed448\n",
    "from cryptography.hazmat.primitives import serialization\n",
    "from cryptography.hazmat.primitives.ciphers import Cipher, algorithms, modes\n",
    "\n",
    "import os\n",
    "import asyncio\n",
    "\n",
    "async def send_signed(key: ed448.Ed448PrivateKey, writer: asyncio.StreamWriter, data: bytes) -> None:\n",
    "    sig = key.sign(data)\n",
    "    writer.write(sig)\n",
    "    writer.write(data)\n",
    "    await writer.drain()\n",
    "\n",
    "async def read_signed(auth_key: ed448.Ed448PublicKey, reader: asyncio.StreamReader, n: int) -> bytes:\n",
    "    sig = await reader.read(114)\n",
    "    data = await reader.read(n)\n",
    "\n",
    "    auth_key.verify(sig, data)\n",
    "\n",
    "    return data\n",
    "    "
   ]
  },
  {
   "cell_type": "code",
   "execution_count": 101,
   "metadata": {},
   "outputs": [],
   "source": [
    "async def client(s_ip: str, s_port: int, message: bytes):\n",
    "    private_key_x448 = x448.X448PrivateKey.generate()\n",
    "    public_key_x448 = private_key_x448.public_key()\n",
    "\n",
    "    # Ed448 Signing&Verification\n",
    "    private_key_ed448 = ed448.Ed448PrivateKey.generate()\n",
    "    public_key_ed448 = private_key_ed448.public_key()\n",
    "\n",
    "    print('client: Openning connection')\n",
    "    reader, writer = await asyncio.open_connection(s_ip, s_port)\n",
    "\n",
    "    # ed448 Exchange\n",
    "    print('client: sending public auth key')\n",
    "    await send_signed(private_key_ed448, writer, public_key_ed448.public_bytes(serialization.Encoding.Raw, serialization.PublicFormat.Raw))\n",
    "\n",
    "    print('client: reading and verifying server auth key')\n",
    "    other_auth_sig = await reader.read(114)\n",
    "    other_authkey_bytes = await reader.read(57)\n",
    "\n",
    "    other_authkey = ed448.Ed448PublicKey.from_public_bytes(other_authkey_bytes)\n",
    "\n",
    "    other_authkey.verify(other_auth_sig, other_authkey_bytes)\n",
    "\n",
    "    # x448 Exchange    \n",
    "    print('client: sending public x448 key')\n",
    "    await send_signed(private_key_ed448, writer, public_key_x448.public_bytes(serialization.Encoding.Raw, serialization.PublicFormat.Raw))\n",
    "\n",
    "    print('client: reading server public x448 key')\n",
    "    other_pkey_bytes = await read_signed(other_authkey, reader, 56)\n",
    "\n",
    "    other_pkey = x448.X448PublicKey.from_public_bytes(other_pkey_bytes)\n",
    "\n",
    "    shared_key = private_key_x448.exchange(other_pkey)\n",
    "\n",
    "    # Perform key derivation.\n",
    "    key = HKDF(\n",
    "        algorithm=hashes.SHA256(),\n",
    "        length=32,\n",
    "        salt=None,\n",
    "        info=b'handshake data',\n",
    "    ).derive(shared_key)\n",
    "\n",
    "    print('client: key:', key)\n",
    "\n",
    "    nonce = os.urandom(16)\n",
    "    algorithm = algorithms.ChaCha20(key, nonce)\n",
    "    cipher = Cipher(algorithm, mode=None)\n",
    "    encryptor = cipher.encryptor()\n",
    "    ct = encryptor.update(message)\n",
    "\n",
    "    print('client: sending message')\n",
    "    await send_signed(private_key_ed448, writer, nonce+ct)\n",
    "\n",
    "    writer.close()\n",
    "\n",
    "    await writer.wait_closed()"
   ]
  },
  {
   "cell_type": "code",
   "execution_count": 102,
   "metadata": {},
   "outputs": [],
   "source": [
    "class Server:\n",
    "\n",
    "    def __init__(self, ip: str, port: int):\n",
    "\n",
    "        self.ip = ip\n",
    "        self.port = port\n",
    "\n",
    "        # X448 key exchange\n",
    "        self.private_key_x448 = x448.X448PrivateKey.generate()\n",
    "        self.public_key_x448 = self.private_key_x448.public_key()\n",
    "\n",
    "        # Ed448 Signing&Verification\n",
    "        self.private_key_ed448 = ed448.Ed448PrivateKey.generate()\n",
    "        self.public_key_ed448 = self.private_key_ed448.public_key()\n",
    "\n",
    "        self.server = asyncio.Server\n",
    "\n",
    "    async def handle_connection(self, reader: asyncio.StreamReader, writer: asyncio.StreamWriter):\n",
    "        # ed448 Exchange\n",
    "        await send_signed(self.private_key_ed448, writer, self.public_key_ed448.public_bytes(serialization.Encoding.Raw, serialization.PublicFormat.Raw))\n",
    "\n",
    "        other_auth_sig = await reader.read(114)\n",
    "        other_authkey_bytes = await reader.read(57)\n",
    "\n",
    "        other_authkey = ed448.Ed448PublicKey.from_public_bytes(other_authkey_bytes)\n",
    "\n",
    "        other_authkey.verify(other_auth_sig, other_authkey_bytes)\n",
    "\n",
    "        # x448 Exchange    \n",
    "        await send_signed(self.private_key_ed448, writer, self.public_key_x448.public_bytes(serialization.Encoding.Raw, serialization.PublicFormat.Raw))\n",
    "\n",
    "        other_pkey_bytes = await read_signed(other_authkey, reader, 56)\n",
    "\n",
    "        other_pkey = x448.X448PublicKey.from_public_bytes(other_pkey_bytes)\n",
    "\n",
    "        shared_key = self.private_key_x448.exchange(other_pkey)\n",
    "\n",
    "        # Perform key derivation.\n",
    "        key = HKDF(\n",
    "            algorithm=hashes.SHA256(),\n",
    "            length=32,\n",
    "            salt=None,\n",
    "            info=b'handshake data',\n",
    "        ).derive(shared_key)\n",
    "\n",
    "        # Read message\n",
    "        ct_data = await read_signed(other_authkey, reader, -1)\n",
    "        nonce = ct_data[0:16]\n",
    "        ct_message = ct_data[16:]\n",
    "\n",
    "        algorithm = algorithms.ChaCha20(key, nonce)\n",
    "        cipher = Cipher(algorithm, mode=None)\n",
    "        decryptor = cipher.decryptor()\n",
    "\n",
    "        plaintext = decryptor.update(ct_message)\n",
    "        plaintext = plaintext.decode('utf-8')\n",
    "\n",
    "        print(\"received: \", plaintext)\n",
    "\n",
    "        writer.close()\n",
    "        await writer.wait_closed()\n",
    "        self.server.close()\n",
    "\n",
    "    async def start_server(self):\n",
    "        self.server = await asyncio.start_server(self.handle_connection, self.ip, self.port)\n",
    "        print('server: started')\n",
    "        async with self.server:\n",
    "            await self.server.serve_forever()"
   ]
  },
  {
   "cell_type": "code",
   "execution_count": 103,
   "metadata": {},
   "outputs": [],
   "source": [
    "server = Server('127.0.0.1', 9876)\n",
    "server_task = asyncio.get_running_loop().create_task(server.start_server())"
   ]
  },
  {
   "cell_type": "code",
   "execution_count": 104,
   "metadata": {},
   "outputs": [
    {
     "name": "stdout",
     "output_type": "stream",
     "text": [
      "client: Openning connection\n",
      "client: sending public auth key\n",
      "client: reading and verifying server auth key\n",
      "client: sending public x448 key\n",
      "client: reading server public x448 key\n",
      "client: key: b'8\\xc0/\\x03=\\xe0UC\"\\xc9\\x87\\xe1V\\xf3b\\x1e[\\xf7\\xf2\\x9f\\xc5\\xa3\\xc4Zp\\x13\\n7\\xb2l\\x00k'\n",
      "client: sending message\n"
     ]
    }
   ],
   "source": [
    "#client_task = asyncio.get_running_loop().create_task(client('127.0.0.1', 9876, b'yep'))\n",
    "await client('127.0.0.1', 9876, b'Ola nina quero tratar de ti.')"
   ]
  },
  {
   "cell_type": "code",
   "execution_count": 105,
   "metadata": {},
   "outputs": [
    {
     "name": "stdout",
     "output_type": "stream",
     "text": [
      "received:  Ola nina quero tratar de ti.\n"
     ]
    },
    {
     "data": {
      "text/plain": [
       "False"
      ]
     },
     "execution_count": 105,
     "metadata": {},
     "output_type": "execute_result"
    }
   ],
   "source": [
    "#client_task.cancel()\n",
    "server_task.cancel()"
   ]
  },
  {
   "cell_type": "markdown",
   "metadata": {},
   "source": [
    "## TESTE"
   ]
  },
  {
   "cell_type": "markdown",
   "metadata": {},
   "source": [
    "Se alguém conseguir comprometer a integridade da chave, e assim, fizer com que o cliente receba uma chave errada, isso dará origem a um erro na verificação na parte do servidor."
   ]
  },
  {
   "cell_type": "code",
   "execution_count": 106,
   "metadata": {},
   "outputs": [],
   "source": [
    "async def teste_client(s_ip: str, s_port: int, message: bytes):\n",
    "    private_key_x448 = x448.X448PrivateKey.generate()\n",
    "    public_key_x448 = private_key_x448.public_key()\n",
    "\n",
    "    # Ed448 Signing&Verification\n",
    "    private_key_ed448 = ed448.Ed448PrivateKey.generate()\n",
    "    public_key_ed448 = private_key_ed448.public_key()\n",
    "\n",
    "    print('client: Openning connection')\n",
    "    reader, writer = await asyncio.open_connection(s_ip, s_port)\n",
    "\n",
    "    # ed448 Exchange\n",
    "    print('client: sending public auth key')\n",
    "    await send_signed(private_key_ed448, writer, public_key_ed448.public_bytes(serialization.Encoding.Raw, serialization.PublicFormat.Raw))\n",
    "\n",
    "    print('client: reading and verifying server auth key')\n",
    "    other_auth_sig = await reader.read(114)\n",
    "    wrong_key = os.urandom(57)\n",
    "\n",
    "    other_authkey_bytes = wrong_key\n",
    "\n",
    "    other_authkey = ed448.Ed448PublicKey.from_public_bytes(other_authkey_bytes)\n",
    "\n",
    "    other_authkey.verify(other_auth_sig, other_authkey_bytes)\n",
    "\n",
    "    # x448 Exchange    \n",
    "    print('client: sending public x448 key')\n",
    "    await send_signed(private_key_ed448, writer, public_key_x448.public_bytes(serialization.Encoding.Raw, serialization.PublicFormat.Raw))\n",
    "\n",
    "    print('client: reading server public x448 key')\n",
    "    other_pkey_bytes = await read_signed(other_authkey, reader, 56)\n",
    "\n",
    "    other_pkey = x448.X448PublicKey.from_public_bytes(other_pkey_bytes)\n",
    "\n",
    "    shared_key = private_key_x448.exchange(other_pkey)\n",
    "\n",
    "    # Perform key derivation.\n",
    "    key = HKDF(\n",
    "        algorithm=hashes.SHA256(),\n",
    "        length=32,\n",
    "        salt=None,\n",
    "        info=b'handshake data',\n",
    "    ).derive(shared_key)\n",
    "\n",
    "    print('client: key:', key)\n",
    "\n",
    "    nonce = os.urandom(16)\n",
    "    algorithm = algorithms.ChaCha20(key, nonce)\n",
    "    cipher = Cipher(algorithm, mode=None)\n",
    "    encryptor = cipher.encryptor()\n",
    "    ct = encryptor.update(message)\n",
    "\n",
    "    print('client: sending message')\n",
    "    await send_signed(private_key_ed448, writer, nonce+ct)\n",
    "\n",
    "    writer.close()\n",
    "\n",
    "    await writer.wait_closed()"
   ]
  },
  {
   "cell_type": "code",
   "execution_count": 107,
   "metadata": {},
   "outputs": [],
   "source": [
    "server = Server('127.0.0.1', 9876)\n",
    "server_task = asyncio.get_running_loop().create_task(server.start_server())"
   ]
  },
  {
   "cell_type": "code",
   "execution_count": 108,
   "metadata": {},
   "outputs": [
    {
     "name": "stdout",
     "output_type": "stream",
     "text": [
      "server: started\n",
      "client: Openning connection\n",
      "client: sending public auth key\n",
      "client: reading and verifying server auth key\n"
     ]
    },
    {
     "ename": "InvalidSignature",
     "evalue": "",
     "output_type": "error",
     "traceback": [
      "\u001b[0;31m---------------------------------------------------------------------------\u001b[0m",
      "\u001b[0;31mInvalidSignature\u001b[0m                          Traceback (most recent call last)",
      "Cell \u001b[0;32mIn[108], line 1\u001b[0m\n\u001b[0;32m----> 1\u001b[0m \u001b[38;5;28;01mawait\u001b[39;00m teste_client(\u001b[38;5;124m'\u001b[39m\u001b[38;5;124m127.0.0.1\u001b[39m\u001b[38;5;124m'\u001b[39m, \u001b[38;5;241m9876\u001b[39m, \u001b[38;5;124mb\u001b[39m\u001b[38;5;124m'\u001b[39m\u001b[38;5;124masdf\u001b[39m\u001b[38;5;124m'\u001b[39m)\n",
      "Cell \u001b[0;32mIn[106], line 24\u001b[0m, in \u001b[0;36mteste_client\u001b[0;34m(s_ip, s_port, message)\u001b[0m\n\u001b[1;32m     20\u001b[0m other_authkey_bytes \u001b[38;5;241m=\u001b[39m wrong_key\n\u001b[1;32m     22\u001b[0m other_authkey \u001b[38;5;241m=\u001b[39m ed448\u001b[38;5;241m.\u001b[39mEd448PublicKey\u001b[38;5;241m.\u001b[39mfrom_public_bytes(other_authkey_bytes)\n\u001b[0;32m---> 24\u001b[0m \u001b[43mother_authkey\u001b[49m\u001b[38;5;241;43m.\u001b[39;49m\u001b[43mverify\u001b[49m\u001b[43m(\u001b[49m\u001b[43mother_auth_sig\u001b[49m\u001b[43m,\u001b[49m\u001b[43m \u001b[49m\u001b[43mother_authkey_bytes\u001b[49m\u001b[43m)\u001b[49m\n\u001b[1;32m     26\u001b[0m \u001b[38;5;66;03m# x448 Exchange    \u001b[39;00m\n\u001b[1;32m     27\u001b[0m \u001b[38;5;28mprint\u001b[39m(\u001b[38;5;124m'\u001b[39m\u001b[38;5;124mclient: sending public x448 key\u001b[39m\u001b[38;5;124m'\u001b[39m)\n",
      "\u001b[0;31mInvalidSignature\u001b[0m: "
     ]
    }
   ],
   "source": [
    "await teste_client('127.0.0.1', 9876, b'asdf')"
   ]
  },
  {
   "cell_type": "code",
   "execution_count": null,
   "metadata": {},
   "outputs": [],
   "source": [
    "server_task.cancel()"
   ]
  }
 ],
 "metadata": {
  "kernelspec": {
   "display_name": "ec_env",
   "language": "python",
   "name": "python3"
  },
  "language_info": {
   "codemirror_mode": {
    "name": "ipython",
    "version": 3
   },
   "file_extension": ".py",
   "mimetype": "text/x-python",
   "name": "python",
   "nbconvert_exporter": "python",
   "pygments_lexer": "ipython3",
   "version": "3.10.12"
  }
 },
 "nbformat": 4,
 "nbformat_minor": 2
}
