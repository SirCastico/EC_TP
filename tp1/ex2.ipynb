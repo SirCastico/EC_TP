{
 "cells": [
  {
   "cell_type": "code",
   "execution_count": 1,
   "metadata": {},
   "outputs": [],
   "source": [
    "from cryptography.hazmat.primitives import hashes\n",
    "from cryptography.hazmat.primitives.asymmetric import x448\n",
    "from cryptography.hazmat.primitives.kdf.hkdf import HKDF\n",
    "from cryptography.hazmat.primitives.asymmetric import ed448\n",
    "from cryptography.hazmat.primitives import serialization\n",
    "from cryptography.hazmat.primitives.ciphers import Cipher, algorithms, modes\n",
    "\n",
    "import os\n",
    "import asyncio\n",
    "\n",
    "async def send_signed(key: ed448.Ed448PrivateKey, writer: asyncio.StreamWriter, data: bytes) -> None:\n",
    "    sig = key.sign(data)\n",
    "    writer.write(sig)\n",
    "    writer.write(data)\n",
    "    await writer.drain()\n",
    "\n",
    "async def read_signed(auth_key: ed448.Ed448PublicKey, reader: asyncio.StreamReader, n: int) -> bytes:\n",
    "    sig = await reader.read(114)\n",
    "    data = await reader.read(n)\n",
    "\n",
    "    auth_key.verify(sig, data)\n",
    "\n",
    "    return data\n",
    "    "
   ]
  },
  {
   "cell_type": "code",
   "execution_count": 2,
   "metadata": {},
   "outputs": [],
   "source": [
    "async def client(s_ip: str, s_port: int, message: bytes):\n",
    "    private_key_x448 = x448.X448PrivateKey.generate()\n",
    "    public_key_x448 = private_key_x448.public_key()\n",
    "\n",
    "    # Ed448 Signing&Verification\n",
    "    private_key_ed448 = ed448.Ed448PrivateKey.generate()\n",
    "    public_key_ed448 = private_key_ed448.public_key()\n",
    "\n",
    "    print('client: Openning connection')\n",
    "    reader, writer = await asyncio.open_connection(s_ip, s_port)\n",
    "\n",
    "    # ed448 Exchange\n",
    "    print('client: sending public auth key')\n",
    "    await send_signed(private_key_ed448, writer, public_key_ed448.public_bytes(serialization.Encoding.Raw, serialization.PublicFormat.Raw))\n",
    "\n",
    "    print('client: reading and verifying server auth key')\n",
    "    other_auth_sig = await reader.read(114)\n",
    "    other_authkey_bytes = await reader.read(57)\n",
    "\n",
    "    other_authkey = ed448.Ed448PublicKey.from_public_bytes(other_authkey_bytes)\n",
    "\n",
    "    other_authkey.verify(other_auth_sig, other_authkey_bytes)\n",
    "\n",
    "    # x448 Exchange    \n",
    "    print('client: sending public x448 key')\n",
    "    await send_signed(private_key_ed448, writer, public_key_x448.public_bytes(serialization.Encoding.Raw, serialization.PublicFormat.Raw))\n",
    "\n",
    "    print('client: reading server public x448 key')\n",
    "    other_pkey_bytes = await read_signed(other_authkey, reader, 56)\n",
    "\n",
    "    other_pkey = x448.X448PublicKey.from_public_bytes(other_pkey_bytes)\n",
    "\n",
    "    shared_key = private_key_x448.exchange(other_pkey)\n",
    "\n",
    "    # Perform key derivation.\n",
    "    key = HKDF(\n",
    "        algorithm=hashes.SHA256(),\n",
    "        length=32,\n",
    "        salt=None,\n",
    "        info=b'handshake data',\n",
    "    ).derive(shared_key)\n",
    "\n",
    "    print('client: key:', key)\n",
    "\n",
    "    nonce = os.urandom(16)\n",
    "    algorithm = algorithms.ChaCha20(key, nonce)\n",
    "    cipher = Cipher(algorithm, mode=None)\n",
    "    encryptor = cipher.encryptor()\n",
    "    ct = encryptor.update(message)\n",
    "\n",
    "    print('client: sending message')\n",
    "    await send_signed(private_key_ed448, writer, nonce+ct)\n",
    "\n",
    "    writer.close()\n",
    "\n",
    "    await writer.wait_closed()"
   ]
  },
  {
   "cell_type": "code",
   "execution_count": 3,
   "metadata": {},
   "outputs": [],
   "source": [
    "class Server:\n",
    "\n",
    "    def __init__(self, ip: str, port: int):\n",
    "\n",
    "        self.ip = ip\n",
    "        self.port = port\n",
    "\n",
    "        # X448 key exchange\n",
    "        self.private_key_x448 = x448.X448PrivateKey.generate()\n",
    "        self.public_key_x448 = self.private_key_x448.public_key()\n",
    "\n",
    "        # Ed448 Signing&Verification\n",
    "        self.private_key_ed448 = ed448.Ed448PrivateKey.generate()\n",
    "        self.public_key_ed448 = self.private_key_ed448.public_key()\n",
    "\n",
    "        self.server = asyncio.Server\n",
    "\n",
    "    async def handle_connection(self, reader: asyncio.StreamReader, writer: asyncio.StreamWriter):\n",
    "        # ed448 Exchange\n",
    "        await send_signed(self.private_key_ed448, writer, self.public_key_ed448.public_bytes(serialization.Encoding.Raw, serialization.PublicFormat.Raw))\n",
    "\n",
    "        other_auth_sig = await reader.read(114)\n",
    "        other_authkey_bytes = await reader.read(57)\n",
    "\n",
    "        other_authkey = ed448.Ed448PublicKey.from_public_bytes(other_authkey_bytes)\n",
    "\n",
    "        other_authkey.verify(other_auth_sig, other_authkey_bytes)\n",
    "\n",
    "        # x448 Exchange    \n",
    "        await send_signed(self.private_key_ed448, writer, self.public_key_x448.public_bytes(serialization.Encoding.Raw, serialization.PublicFormat.Raw))\n",
    "\n",
    "        other_pkey_bytes = await read_signed(other_authkey, reader, 56)\n",
    "\n",
    "        other_pkey = x448.X448PublicKey.from_public_bytes(other_pkey_bytes)\n",
    "\n",
    "        shared_key = self.private_key_x448.exchange(other_pkey)\n",
    "\n",
    "        # Perform key derivation.\n",
    "        key = HKDF(\n",
    "            algorithm=hashes.SHA256(),\n",
    "            length=32,\n",
    "            salt=None,\n",
    "            info=b'handshake data',\n",
    "        ).derive(shared_key)\n",
    "\n",
    "        # Read message\n",
    "        ct_data = await read_signed(other_authkey, reader, -1)\n",
    "        nonce = ct_data[0:16]\n",
    "        ct_message = ct_data[16:]\n",
    "\n",
    "        algorithm = algorithms.ChaCha20(key, nonce)\n",
    "        cipher = Cipher(algorithm, mode=None)\n",
    "        decryptor = cipher.decryptor()\n",
    "\n",
    "        plaintext = decryptor.update(ct_message)\n",
    "        plaintext = plaintext.decode('utf-8')\n",
    "\n",
    "        print(\"received: \", plaintext)\n",
    "\n",
    "        writer.close()\n",
    "        await writer.wait_closed()\n",
    "        self.server.close()\n",
    "\n",
    "    async def start_server(self):\n",
    "        self.server = await asyncio.start_server(self.handle_connection, self.ip, self.port)\n",
    "        print('server: started')\n",
    "        async with self.server:\n",
    "            await self.server.serve_forever()"
   ]
  },
  {
   "cell_type": "code",
   "execution_count": 4,
   "metadata": {},
   "outputs": [
    {
     "name": "stdout",
     "output_type": "stream",
     "text": [
      "server: started\n",
      "received:  yep\n"
     ]
    }
   ],
   "source": [
    "server = Server('127.0.0.1', 9876)\n",
    "server_task = asyncio.get_running_loop().create_task(server.start_server())"
   ]
  },
  {
   "cell_type": "code",
   "execution_count": 5,
   "metadata": {},
   "outputs": [
    {
     "name": "stdout",
     "output_type": "stream",
     "text": [
      "client: Openning connection\n",
      "client: sending public auth key\n",
      "client: reading and verifying server auth key\n",
      "client: sending public x448 key\n",
      "client: reading server public x448 key\n",
      "client: key:  b'\\xbfF#\\xc8\\xfe<\\x10\\xb4\\xc5\\x9d\\x1cv\\x8d\\xb1*BDO\\xb0/\\x11\\xed\"A\\xf6\\xde\\xa4\\xa3{\\xc4+3'\n",
      "client: sending message\n"
     ]
    }
   ],
   "source": [
    "#client_task = asyncio.get_running_loop().create_task(client('127.0.0.1', 9876, b'yep'))\n",
    "await client('127.0.0.1', 9876, b'yep')"
   ]
  },
  {
   "cell_type": "code",
   "execution_count": 29,
   "metadata": {},
   "outputs": [
    {
     "data": {
      "text/plain": [
       "True"
      ]
     },
     "execution_count": 29,
     "metadata": {},
     "output_type": "execute_result"
    }
   ],
   "source": [
    "client_task.cancel()\n",
    "server_task.cancel()"
   ]
  }
 ],
 "metadata": {
  "kernelspec": {
   "display_name": "ec_env",
   "language": "python",
   "name": "python3"
  },
  "language_info": {
   "codemirror_mode": {
    "name": "ipython",
    "version": 3
   },
   "file_extension": ".py",
   "mimetype": "text/x-python",
   "name": "python",
   "nbconvert_exporter": "python",
   "pygments_lexer": "ipython3",
   "version": "3.12.1"
  }
 },
 "nbformat": 4,
 "nbformat_minor": 2
}
